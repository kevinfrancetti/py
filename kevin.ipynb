{
 "cells": [
  {
   "cell_type": "markdown",
   "metadata": {},
   "source": [
    "# Blah blah\n",
    "## blah blah\n",
    "### blah"
   ]
  },
  {
   "cell_type": "code",
   "execution_count": 51,
   "metadata": {},
   "outputs": [
    {
     "name": "stdout",
     "output_type": "stream",
     "text": [
      "[  0   9 333   7]\n",
      "[9 8 7]\n",
      "[0 0 0 1]\n",
      "[0 1 1 1]\n"
     ]
    }
   ],
   "source": [
    "import numpy as np\n",
    "\n",
    "array_1 = np.array([0,1,2,3])\n",
    "array_2 = np.array([9,8,7])\n",
    "array_1[1:] = array_2\n",
    "array_1[2] = 333\n",
    "print(array_1)\n",
    "print(array_2)\n",
    "#array_2[[True, False, True, True]]#Non ha senso da fare perché non è della stessa dimensione\n",
    "\n",
    "#Questo si può fare invece perché python è una merda incosisnte\n",
    "#senza un buon approccio versolo il buon senso e la logica\n",
    "array_2[[0,2,1,2,0,1,2,1,2,0,0,0]]\n",
    "\n"
   ]
  },
  {
   "cell_type": "code",
   "execution_count": 72,
   "metadata": {},
   "outputs": [
    {
     "name": "stdout",
     "output_type": "stream",
     "text": [
      "[1 0 1 0 1 0 1 0 1 0 1 0 1]\n",
      "[1 2 0 1 2 0 1 2 0 1 2 0 1]\n",
      "[1 2 3 4 0 1 2 3 4 0 1 2 3]\n",
      "0\n"
     ]
    }
   ],
   "source": [
    "array_p = np.array([1,2,3,4,5,6,7,8,9,10,11,12,13])\n",
    "print((array_p % 2))\n",
    "print((array_p % 3))\n",
    "print((array_p % 5))\n",
    "a = (array_p % 2)\n",
    "a[2] = 2\n",
    "for i in range(1):\n",
    "    print(i)"
   ]
  }
 ],
 "metadata": {
  "kernelspec": {
   "display_name": "Python 3",
   "language": "python",
   "name": "python3"
  },
  "language_info": {
   "codemirror_mode": {
    "name": "ipython",
    "version": 3
   },
   "file_extension": ".py",
   "mimetype": "text/x-python",
   "name": "python",
   "nbconvert_exporter": "python",
   "pygments_lexer": "ipython3",
   "version": "3.7.3"
  }
 },
 "nbformat": 4,
 "nbformat_minor": 2
}
