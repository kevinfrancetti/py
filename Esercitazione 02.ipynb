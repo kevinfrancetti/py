{
 "cells": [
  {
   "cell_type": "markdown",
   "metadata": {},
   "source": [
    "# Esercitazione 2"
   ]
  },
  {
   "cell_type": "markdown",
   "metadata": {},
   "source": [
    "## Istruzioni\n",
    "Valgono le stesse istruzioni delle esercitazioni precedenti. \n",
    "\n",
    "Scrivi il programma Python nella cella sotto il testo dell'esercizio (o creane una nuova). Stampa sempre a video il risultato finale per verificare la correttezza dell'esercizio.  Talvolta richiamiamo alcuni concetti importanti in una cella di codice sotto il testo dell'esercizio, prova a eseguirla ed eventualmente modificarla per assicurarti di aver capito il necessario.\n",
    "\n",
    "\n",
    "## Consegna\n",
    "Valgono le regole delle esercitazioni precedenti.\n",
    "\n",
    "E' obbligatorio **consegnare la soluzione di tutti gli esercizi** (tranne quelli marcati come opzionali) **entro l'inizio della lezione successiva** (in questo caso entro Lunedi' prossimo), nell'apposito assignment su iCorsi.  Per consegnare:\n",
    "- eseguire l'intero notebook partendo da zero (`Kernel -> Restart & Run All`), e controllare che le soluzioni siano quelle attese;\n",
    "- esportare il notebook in formato html (`File -> Download as...`) e consegnare il file risultante.\n",
    "\n",
    "Nel caso non abbiate potuto completare uno o piu' esercizi, descrivete il problema incontrato e **consegnate comunque il file con il resto delle soluzioni**."
   ]
  },
  {
   "cell_type": "markdown",
   "metadata": {},
   "source": [
    "## Esercizio 1\n",
    "\n",
    "### 1.1  \n",
    "Si scriva una funzione ``generaArray(lista,a)`` con i seguenti argomenti di ingresso:\n",
    "- ``lista``: lista di numeri reali (float)\n",
    "- ``a``: numero reale (float)\n",
    "\n",
    "La funzione ``generaArray(lista,a)`` deve restituire un array (che chiameremo ``arrayUscita``) della stessa lunghezza di ``lista``, dove l' elemento $i$-esimo di ``arrayUscita`` è uguale all'elemento $i$-esimo di ``lista`` moltiplicato per ``a``. Esempio \n",
    "\n",
    "```\n",
    "Input:\n",
    "lista = [10,20,30]\n",
    "a = 3\n",
    "arrayUscita = generaArray(lista,a)\n",
    "\n",
    "Output atteso:\n",
    "arrayUscita = array([30,60,90])\n",
    "```"
   ]
  },
  {
   "cell_type": "code",
   "execution_count": 1,
   "metadata": {},
   "outputs": [],
   "source": [
    "# Solution\n",
    "import numpy as np\n",
    "\n",
    "def generaArray(lista, a=1):\n",
    "    return np.array(lista)*a"
   ]
  },
  {
   "cell_type": "markdown",
   "metadata": {},
   "source": [
    "### 1.2 \n",
    "Stampare il numero di dimensioni di ``arrayUscita`` e la sua forma (shape). "
   ]
  },
  {
   "cell_type": "code",
   "execution_count": 2,
   "metadata": {},
   "outputs": [
    {
     "name": "stdout",
     "output_type": "stream",
     "text": [
      "array di uscita: [ 4  8 12]\n",
      "numero di dimensioni: 1\n",
      "forma: (3,)\n"
     ]
    }
   ],
   "source": [
    "arrayUscita = generaArray([1,2,3], 4)\n",
    "print(f\"array di uscita: {arrayUscita}\")\n",
    "print(f\"numero di dimensioni: {arrayUscita.ndim}\")\n",
    "print(f\"forma: {arrayUscita.shape}\")"
   ]
  },
  {
   "cell_type": "markdown",
   "metadata": {},
   "source": [
    "### 1.3 \n",
    "Ripere l'esercizio 1.1, ma questa volta l'argomento  ``a`` della funzione ``generaArray`` e' un parametro opzionale di ingresso, con valore di default ``a=1`` "
   ]
  },
  {
   "cell_type": "code",
   "execution_count": 3,
   "metadata": {},
   "outputs": [
    {
     "data": {
      "text/plain": [
       "array([1, 2, 3])"
      ]
     },
     "execution_count": 3,
     "metadata": {},
     "output_type": "execute_result"
    }
   ],
   "source": [
    "# Solution\n",
    "lista = [1,2,3]\n",
    "arrayUscita = generaArray(lista)\n",
    "arrayUscita"
   ]
  },
  {
   "cell_type": "markdown",
   "metadata": {},
   "source": [
    "### 1.4 \n",
    "Ripere l'esercizio 1.3, in cui l'argomento  ``a`` della funzione ``generaArray`` rimane un parametro opzionale di ingresso (con valore di default ``a=1``). Tuttavia, in questo caso il parametro ``a`` non è necessariamente uno scalare, ma puo' essere anche un iterable (tupla o lista) di numeri float.\n",
    "\n",
    "Se `a` e' uno scalare, `generaArray` funziona come nell'esercizio precedente. Se `a` e' un iterable, l'output della funzione dovrà essere un array (che chiameremo di nuovo ``arrayUscita``) dove la $i$-esima riga è uguale a ``lista`` moltiplicata per ``a[i]``. La stessa funzione restituisca pure il numero di dimensioni di ``arrayUscita`` e la sua forma. Esempio:\n",
    "\n",
    "```\n",
    "Input:\n",
    "lista = [10,20,30]\n",
    "a = [1,2]\n",
    "arrayUscita, dimensione, forma = generaArray(lista,a)\n",
    "\n",
    "Output atteso:\n",
    "array uscita:\n",
    " [[10. 20. 30.]\n",
    " [20. 40. 60.]]\n",
    "dimensione:  2\n",
    "forma:  (2, 3)\n",
    "``` \n",
    "\n",
    "**Verificate che la funzione generaArray funzioni sia quando l'argomento ``a`` è uno scalare, sia quando ``a`` è una lista o una tupla.** \n",
    " "
   ]
  },
  {
   "cell_type": "code",
   "execution_count": 4,
   "metadata": {},
   "outputs": [
    {
     "name": "stdout",
     "output_type": "stream",
     "text": [
      "dimensione di uno scalare: 0\n",
      "\n",
      "dimensione di una lista di numeri: 1\n",
      "\n"
     ]
    }
   ],
   "source": [
    "# Hint 1 (per trattare gli scalari allo stesso modo in cui trattiamo le liste)\n",
    "\n",
    "a = 1\n",
    "print(f\"dimensione di uno scalare: {np.ndim(a)}\\n\")\n",
    "\n",
    "a = [1]\n",
    "print(f\"dimensione di una lista di numeri: {np.ndim(a)}\\n\")"
   ]
  },
  {
   "cell_type": "code",
   "execution_count": 5,
   "metadata": {},
   "outputs": [
    {
     "name": "stdout",
     "output_type": "stream",
     "text": [
      "[[ 0.  0.  0.  0.]\n",
      " [ 0.  0.  0.  0.]\n",
      " [10. 11. 12. 13.]\n",
      " [ 0.  0.  0.  0.]]\n",
      "\n",
      "[[ 0.  0. 10.  0.]\n",
      " [ 0.  0. 11.  0.]\n",
      " [10. 11. 12. 13.]\n",
      " [ 0.  0. 13.  0.]]\n"
     ]
    }
   ],
   "source": [
    "# Hint 2\n",
    "\n",
    "matrice = np.zeros((4,4))\n",
    "array1 = np.arange(10,14)\n",
    "matrice[2,:] = array1 #assegno array1 alla riga '2' di matrice\n",
    "print(matrice)\n",
    "print()\n",
    "\n",
    "matrice[:,2] = array1 #assegno array1 alla colonna '2' di matrice\n",
    "print(matrice)"
   ]
  },
  {
   "cell_type": "code",
   "execution_count": 6,
   "metadata": {},
   "outputs": [
    {
     "name": "stdout",
     "output_type": "stream",
     "text": [
      "(1, 2) <class 'tuple'>\n",
      "1 2\n",
      "\n",
      "1 2\n",
      "\n",
      "1 2\n"
     ]
    }
   ],
   "source": [
    "# Hint 3: impacchettare piu' valori di ritorno in una tupla\n",
    "\n",
    "def f():\n",
    "    return 1, 2 # restituisce una tupla di due valori\n",
    "    # return (1, 2) # equivalente\n",
    "\n",
    "t = f()\n",
    "print(t, type(t))\n",
    "a = t[0]\n",
    "b = t[1]\n",
    "print(a, b)\n",
    "print()\n",
    "\n",
    "# Meglio\n",
    "t = f()\n",
    "a, b = t # tuple unpacking\n",
    "print(a, b)\n",
    "print()\n",
    "\n",
    "# Meglio ancora\n",
    "a, b = f()\n",
    "print(a,b)\n"
   ]
  },
  {
   "cell_type": "code",
   "execution_count": 7,
   "metadata": {},
   "outputs": [
    {
     "data": {
      "text/plain": [
       "array([[3., 6., 9.]])"
      ]
     },
     "execution_count": 7,
     "metadata": {},
     "output_type": "execute_result"
    }
   ],
   "source": [
    "# Solution\n",
    "def generaArray(lista, a=1):\n",
    "    if np.ndim(a) == 0: a = np.array([a])\n",
    "    arrayUscita = np.zeros((np.shape(a)[0], len(lista)))\n",
    "    for i in range(np.shape(a)[0]):\n",
    "        arrayUscita[i,:] = np.array(lista)*a[i]\n",
    "    return arrayUscita\n",
    "        \n",
    "a = generaArray([1,2,3], 3)\n",
    "a"
   ]
  },
  {
   "cell_type": "markdown",
   "metadata": {},
   "source": [
    "### 1.5 (opzionale)\n",
    "Modificate la forma dell'array ``arrayUscita`` generato al punto 1.4. Nello specifico, mettere in sequenza gli elementi di ``arrayUscita`` in modo da formare un array di dimensione UNO. Esempio:\n",
    "\n",
    "```\n",
    "Input:\n",
    "arrayUscita =  [[10. 20. 30.],\n",
    " [20. 40. 60.]]\n",
    "\n",
    "Output atteso:\n",
    "array([10., 20., 30., 20., 40., 60.])\n",
    "``` \n",
    "\n",
    "**Hint: la funzione np.reshape permette di riorganizzare gli elementi di un array. Si veda l'help tramite comando ``np.reshape?`` (oppure [qui](https://docs.scipy.org/doc/numpy/reference/generated/numpy.reshape.html)) e la cella sotto per maggiori dettagli o esempi**"
   ]
  },
  {
   "cell_type": "code",
   "execution_count": 8,
   "metadata": {},
   "outputs": [
    {
     "name": "stdout",
     "output_type": "stream",
     "text": [
      "array1 (matrice): [[1, 2, 3], [4, 5, 6]] \n",
      "\n",
      "array2 (matrice con 6 righe e una colonna):\n",
      " [[1]\n",
      " [2]\n",
      " [3]\n",
      " [4]\n",
      " [5]\n",
      " [6]] \n",
      "\n",
      "array3 (matrice con 1 riga e 6 colonne): \n",
      " [[1 2 3 4 5 6]] \n",
      "\n",
      "array4 (array ad una sola dimensione): \n",
      " [1 2 3 4 5 6] \n",
      "\n"
     ]
    }
   ],
   "source": [
    "# Hint\n",
    "\n",
    "array1 = [ [1,2,3], [4,5,6] ]\n",
    "print(f\"array1 (matrice): {array1} \\n\")\n",
    "\n",
    "array2 = np.reshape(array1,(6,1))\n",
    "print(f\"array2 (matrice con 6 righe e una colonna):\\n {array2} \\n\")\n",
    "\n",
    "array3 = np.reshape(array1,(1,6))\n",
    "print(f\"array3 (matrice con 1 riga e 6 colonne): \\n {array3} \\n\")\n",
    "\n",
    "array4 = np.reshape(array1,(6,))\n",
    "print(f\"array4 (array ad una sola dimensione): \\n {array4} \\n\")\n",
    "\n",
    "# NOTA BENE: Prova a calcolare la dimensione di array3 e array4. Noterai che la dimensione di array3 (vettore di una sola riga e 6 colonne) è diversa dalla \n",
    "# dimensione di array4 (array di una sola dimensione).  "
   ]
  },
  {
   "cell_type": "code",
   "execution_count": 9,
   "metadata": {},
   "outputs": [],
   "source": [
    "# Solution\n"
   ]
  },
  {
   "cell_type": "markdown",
   "metadata": {},
   "source": [
    "### 1.6 (simile al punto 1.5, opzionale) \n",
    "Questa volta, dato l'array a UNA dimensione: mioArray = array([1,2,3,4,5,6]), riorganizzatelo in modo da avere: (i) un array (con DUE dimensioni) con 1 riga e 6 colonne; (ii) una matrice (o array a 2 dimensioni) con 2 righe e 3 colonne. Output atteso:\n",
    "\n",
    "```\n",
    "Caso 1:\n",
    " [[1 2 3 4 5 6]] \n",
    "\n",
    "Caso 2:\n",
    " [[1 2 3]\n",
    " [4 5 6]] \n",
    "``` "
   ]
  },
  {
   "cell_type": "code",
   "execution_count": 10,
   "metadata": {},
   "outputs": [],
   "source": [
    "# Solution\n"
   ]
  },
  {
   "cell_type": "markdown",
   "metadata": {},
   "source": [
    "## Esercizio 2"
   ]
  },
  {
   "cell_type": "markdown",
   "metadata": {},
   "source": [
    "### 2.1 \n",
    "Facciamo ancora un po' di pratica con l'indicizzazione in Python. Esegui le sequenti operazioni:\n",
    "- genera un array (lo chiameremo ``array1``) costituito da 10 elementi equispaziati nell'intervallo [-1, 1] (estremi inclusi). Hint: usa il comando ``np.linspace`` visto a lezione (Se non ti ricordi come funzione, richiama l'help col comando ``np.linspace?`` oppure cerca \"linspace\" nella search box [qui](https://docs.scipy.org/doc/numpy/index.html) -- vale per tutte le funzioni di numpy).  \n",
    "- genera un array (lo chiameremo ``array2``) costituito da elementi equispaziati nell'intervallo [-1, 1) con passo $0.1$ (escludi il valore finale ``1`` per semplicità). Hint: usa il comando ``np.arange`` visto a lezione (Se non ti ricordi come funzione, richiama l'help).\n",
    "- somma il quadrato degli ultimi 3 elementi di array1 con gli elementi di array2 in posizione 0, 3 e 2 (Hint: il comando per elevare a potenza è il doppio asterisco ``**`` (es. ``2**8`` restituisce ``254``) )\n",
    "- genera un array a DUE dimensioni (lo chiameremo ``matrice1``) di numeri casuali tra $-1$ e $1$ con 10 righe e 1 colonna. Hint: usa comando ``np.random.rand`` (vedi cella sotto per ulteriore suggerimento sull'uso di ``np.random.rand``)\n",
    "- genera un array a DUE dimensioni (lo chiameremo ``matrice2``) di numeri casuali tra $-1$ e $1$ con 1 riga e 10 colonne.\n",
    "- genera un array di 10 elementi dato dalla somma (elemento per elemento) tra gli elementi di ``matrice1`` e ``matrice2`` (**ATTENZIONE: verifica il risultato soprattutto per quest'ultimo punto. Se il risultato non è quello che vi aspettate, potrebbe essere utile fare un reshape degli array per lavorare con array di dimensione UNO**)"
   ]
  },
  {
   "cell_type": "code",
   "execution_count": 11,
   "metadata": {},
   "outputs": [
    {
     "name": "stdout",
     "output_type": "stream",
     "text": [
      "array1: [[0.50960827]\n",
      " [0.06373338]\n",
      " [0.5122346 ]\n",
      " [0.4290436 ]\n",
      " [0.81018625]\n",
      " [0.02868372]\n",
      " [0.95309657]\n",
      " [0.55457991]\n",
      " [0.45944105]\n",
      " [0.94907299]] \n",
      "\n",
      "array2: [[50.96082705]\n",
      " [ 6.37333779]\n",
      " [51.22345955]\n",
      " [42.90436022]\n",
      " [81.01862493]\n",
      " [ 2.86837168]\n",
      " [95.30965736]\n",
      " [55.45799087]\n",
      " [45.94410514]\n",
      " [94.90729912]] \n",
      "\n",
      "array3: [[  0.96082705]\n",
      " [-43.62666221]\n",
      " [  1.22345955]\n",
      " [ -7.09563978]\n",
      " [ 31.01862493]\n",
      " [-47.13162832]\n",
      " [ 45.30965736]\n",
      " [  5.45799087]\n",
      " [ -4.05589486]\n",
      " [ 44.90729912]] \n",
      "\n"
     ]
    }
   ],
   "source": [
    "# Hints su np.random.rand\n",
    "array1 = np.random.rand(10,1)    # genero un array di DUE dimensioni con 10 righe e una colonna. \n",
    "print(f\"array1: {array1} \\n\")                   \n",
    "    \n",
    "# il comando np.random.rand genera numeri casuali tra 0 e 1 \n",
    "# Se voglio avere numeri casuali tra 0 e 100, mi basta moltiplicare array1*100\n",
    "array2 = array1*100\n",
    "print(f\"array2: {array2} \\n\") \n",
    "\n",
    "# Se voglio avere numeri casuali tra -50 e 50, mi basta moltiplicare sottrarre 50 ad array2\n",
    "array3 = array2 - 50\n",
    "print(f\"array3: {array3} \\n\") "
   ]
  },
  {
   "cell_type": "code",
   "execution_count": 12,
   "metadata": {},
   "outputs": [
    {
     "name": "stdout",
     "output_type": "stream",
     "text": [
      "[-0.69135802 -0.39506173  0.        ]\n",
      "[-0.49135802 -0.19506173  0.2       ]\n",
      "[-0.39135802 -0.09506173  0.3       ]\n"
     ]
    }
   ],
   "source": [
    "# Solution\n",
    "array1 = np.linspace(-1,1,10)\n",
    "array2 = np.arange(-1,1,0.1)\n",
    "print(array1[-3:]**2 + array2[0])\n",
    "print(array1[-3:]**2 + array2[2])\n",
    "print(array1[-3:]**2 + array2[3])\n"
   ]
  },
  {
   "cell_type": "markdown",
   "metadata": {},
   "source": [
    "### 2.2 \n",
    "Si costruisca un array (chiameremo ``mioArray``) costituito da $20$ numeri casuali tra $0$ e $10$. A partire da ``mioArray``, si costruisca una lista di array. Il primo elemento della lista dovrà contenere tutti i numeri in ``mioArray`` minori di $3$, il secondo tutti i numeri in ``mioArray`` compresi tra $3$ e $6$, il terzo tutti i numeri maggiori di $6$. **Hint: Usa variabili booleane per indicizzare gli array**"
   ]
  },
  {
   "cell_type": "code",
   "execution_count": 13,
   "metadata": {},
   "outputs": [
    {
     "name": "stdout",
     "output_type": "stream",
     "text": [
      "array a: [14.1975096  15.49488243  4.06996304 12.573141    1.11044168 13.13417679\n",
      "  5.42346044 17.13040768 14.19045897  9.74925339] \n",
      "\n",
      "array b: [14.1975096   5.42346044 14.19045897] \n",
      "\n",
      "array Aindex: [False False  True False False False  True False False  True]\n",
      "\n",
      "array con elementi >4 e <10: [4.06996304 5.42346044 9.74925339]\n"
     ]
    }
   ],
   "source": [
    "# Hint\n",
    "a = np.random.rand(10)*20\n",
    "print(f\"array a: {a} \\n\")\n",
    "\n",
    "listaDiIndici = [0,6,8]\n",
    "b = a[listaDiIndici] # Scelto gli elementi di a con indici definiti in listaDiIndici\n",
    "print(f\"array b: {b} \\n\")\n",
    "\n",
    "Aindex = (a > 4) & (a < 10) ## Hai capito come è fatto Aindex?\n",
    "print(f\"array Aindex: {Aindex}\\n\")\n",
    "\n",
    "print(f\"array con elementi >4 e <10: {a[Aindex]}\") # Indicizzare l'array 'a' con un vettore di variabili Booleane si chiama \"masking\""
   ]
  },
  {
   "cell_type": "code",
   "execution_count": 14,
   "metadata": {},
   "outputs": [
    {
     "data": {
      "text/plain": [
       "[array([1.09649645, 2.11165973, 2.40069297, 0.43786389]),\n",
       " array([3.57974911, 5.80232061, 3.52688184, 4.76438393, 5.73412915,\n",
       "        4.48995686, 4.63610602, 3.53663454]),\n",
       " array([8.5968147 , 6.68897085, 8.40779351, 7.52869691, 8.10090436,\n",
       "        9.91956662, 9.58718693, 9.82797436])]"
      ]
     },
     "execution_count": 14,
     "metadata": {},
     "output_type": "execute_result"
    }
   ],
   "source": [
    "# Solution\n",
    "mioArray = np.random.rand(20)*10\n",
    "#print(mioArray[mioArray < 3])\n",
    "#print(mioArray[mioArray < 5])\n",
    "#print(mioArray[(mioArray < 5) & (mioArray > 2)])\n",
    "\n",
    "arr3 = mioArray[mioArray < 3]\n",
    "arr36 = mioArray[(mioArray >= 3) & (mioArray <=6 ) ]\n",
    "arr6 = mioArray[mioArray > 6]\n",
    "lista = [arr3, arr36, arr6]\n",
    "lista"
   ]
  },
  {
   "cell_type": "markdown",
   "metadata": {},
   "source": [
    "### 2.3 \n",
    "Si parta dalla soluzione generata al passo precedente e si costruisca un array a 2 dimensioni  (che chiameremo ``matrice``) con 3 righe, simile alla lista che avete costruito al passo precedente. Nello specifico. La prima riga della matrice dovrà contenere tutti i numeri in ``mioArray`` minori di $3$, la seconda riga tutti i numeri in ``mioArray`` compresi tra $3$ e  $6$, la terza riga tutti i numeri maggiori di $6$. Riempi di $0$ (zero) le righe per garantire che tutte le righe della matrice abbiano la stessa dimensione. Ci si attende un risultato di questo tipo:\n",
    "\n",
    "```\n",
    "[[0.21 0.14 2.27 0.37 1.43 1.58 0.   0.   0.   0.   0.  ]\n",
    " [3.27 4.42 5.65 0.   0.   0.   0.   0.   0.   0.   0.  ]\n",
    " [9.79 6.97 9.36 9.37 8.91 9.24 9.13 9.46 6.2  8.69 8.63]]\n",
    "```\n",
    "Suggerimento: inizializza ``matrice`` con tutti gli elementi uguali a 0. Per fare questo usa il comando np.zero((3,m)) dove m sono il numero di colonne di ``matrice``. Nello scegliere il numero di colonne di ``matrice``, calcola la massima lunghezza tra i 3 array generati al passo precedente. "
   ]
  },
  {
   "cell_type": "code",
   "execution_count": 15,
   "metadata": {},
   "outputs": [
    {
     "name": "stdout",
     "output_type": "stream",
     "text": [
      "[ 0  2 30 -2]\n",
      "Valore massimo di array1: 30\n",
      "Numeri di True in boolVector: 4\n"
     ]
    }
   ],
   "source": [
    "# Hint 1:\n",
    "array1 = np.array([0,2,30,-2])\n",
    "print(array1)\n",
    "\n",
    "maxValue = np.max(array1) # Per calcolare il massimo tra gli elementi d un array\n",
    "print(f\"Valore massimo di array1: {maxValue}\") \n",
    "\n",
    "# Hint 2 (non necessariamente utile, dipende da come avete risolto il punto precedente):\n",
    "boolVector = np.array([True, False, True, True, True, False]) # Definito array di variabili Booleane che usero' per indicizzare un array\n",
    "\n",
    "# Sommo tra di loro gli elementi di boolVector per contare il numero di True in boolVector\n",
    "numberTrue = np.sum(boolVector) \n",
    "print(f\"Numeri di True in boolVector: {numberTrue}\")"
   ]
  },
  {
   "cell_type": "code",
   "execution_count": 16,
   "metadata": {
    "scrolled": false
   },
   "outputs": [
    {
     "data": {
      "text/plain": [
       "array([[1.09649645, 2.11165973, 2.40069297, 0.43786389, 0.        ,\n",
       "        0.        , 0.        , 0.        ],\n",
       "       [3.57974911, 5.80232061, 3.52688184, 4.76438393, 5.73412915,\n",
       "        4.48995686, 4.63610602, 3.53663454],\n",
       "       [8.5968147 , 6.68897085, 8.40779351, 7.52869691, 8.10090436,\n",
       "        9.91956662, 9.58718693, 9.82797436]])"
      ]
     },
     "execution_count": 16,
     "metadata": {},
     "output_type": "execute_result"
    }
   ],
   "source": [
    "# Solution\n",
    "lunghezze = [len(lista[0]),len(lista[1]),len(lista[2])]\n",
    "matrice = np.zeros((3, np.max(lunghezze)))\n",
    "for i in range(len(lista)):\n",
    "    matrice[i,0:len(lista[i])] = lista[i]\n",
    "matrice"
   ]
  },
  {
   "cell_type": "markdown",
   "metadata": {},
   "source": [
    "### 2.4 (Opzionale)\n",
    "Generare una nuova matrice ``nuovaMatrice`` rimescolando le colonne di ``matrice`` facendo in modo che i numeri della prima riga di ``matrice`` siano  ordinati in ordine crescente. Ci si attende un risultato di questo tipo:\n",
    "```\n",
    "matrice:\n",
    " [[2.42 0.15 2.25 0.44 0.24 2.64 0.   0.   0.   0.  ]\n",
    " [5.26 3.81 4.44 4.54 5.85 5.86 4.69 3.1  3.05 4.42]\n",
    " [7.5  6.72 6.84 6.17 0.   0.   0.   0.   0.   0.  ]]\n",
    "nuovaMatrice:\n",
    " [[0.   0.   0.   0.   0.15 0.24 0.44 2.25 2.42 2.64]\n",
    " [4.69 3.1  3.05 4.42 3.81 5.85 4.54 4.44 5.26 5.86]\n",
    " [0.   0.   0.   0.   6.72 0.   6.17 6.84 7.5  0.  ]]\n",
    "``` "
   ]
  },
  {
   "cell_type": "code",
   "execution_count": 17,
   "metadata": {},
   "outputs": [
    {
     "name": "stdout",
     "output_type": "stream",
     "text": [
      "array iniziale: [[0.92374814 0.44780545 0.10440297 0.39408585 0.95308493 0.77490649\n",
      "  0.51509595 0.1153565  0.97904189 0.67455751]]\n",
      "\n",
      "array ordinato: [[0.10440297 0.1153565  0.39408585 0.44780545 0.51509595 0.67455751\n",
      "  0.77490649 0.92374814 0.95308493 0.97904189]]\n",
      "\n",
      "Indici per ordinare l'array: [[2 7 3 1 6 9 5 0 4 8]]\n",
      "\n",
      "Nuovo array ordinato: [[0.10440297 0.1153565  0.39408585 0.44780545 0.51509595 0.67455751\n",
      "  0.77490649 0.92374814 0.95308493 0.97904189]]\n",
      "\n"
     ]
    },
    {
     "data": {
      "text/plain": [
       "(1, 10)"
      ]
     },
     "execution_count": 17,
     "metadata": {},
     "output_type": "execute_result"
    }
   ],
   "source": [
    "#Hint\n",
    "# Ordiniamo un array in ordine crescente\n",
    "\n",
    "# Metodo semplice\n",
    "mioArray1 = np.random.rand(1,10) # genero array con 2 dimensioni, composta da 1 riga e 10 colonne\n",
    "print(f\"array iniziale: {mioArray1}\\n\")\n",
    "print(f\"array ordinato: {np.sort(mioArray1)}\\n\")\n",
    "\n",
    "# Metodo un po' piu' complesso, ma che restituisce gli indici di mioArray1 che permettono di riordinare mioArray1\n",
    "indiciOrdinati = np.argsort(mioArray1)\n",
    "print(f\"Indici per ordinare l'array: {indiciOrdinati}\\n\")\n",
    "arrayOrdinato = mioArray1[0,indiciOrdinati] #Notate che mioArray1 è un array a 2 dimensioni (una riga e 10 colonne). Nell'indicizzare l'array, devo quindi specificare [riga,colonna])\n",
    "print(f\"Nuovo array ordinato: {arrayOrdinato}\\n\")\n",
    "mioArray1.shape"
   ]
  },
  {
   "cell_type": "code",
   "execution_count": 18,
   "metadata": {},
   "outputs": [],
   "source": [
    "# Solution\n"
   ]
  },
  {
   "cell_type": "markdown",
   "metadata": {},
   "source": [
    "## Esercizio 3 "
   ]
  },
  {
   "cell_type": "markdown",
   "metadata": {},
   "source": [
    "### 3.1 \n",
    "Si costruisca una funzione ``numeriPrimi(N)`` che riceve come argomento (opzionale) di ingresso un numero intero ``N`` (valore di default ``N=1000``) e restituisce un array con tutti i numeri primi minori o uguali a ``N`` (non si consideri nè $0$ nè $1$)"
   ]
  },
  {
   "cell_type": "code",
   "execution_count": 19,
   "metadata": {},
   "outputs": [
    {
     "name": "stdout",
     "output_type": "stream",
     "text": [
      "[10.          5.          3.33333333]\n",
      "mioArray1: [1, 2, 3] \n",
      "\n",
      "mioArray2: [1 2 3 4 5] \n",
      "\n",
      "mioArray3: [  1 -10   2   3   4   5] \n",
      "\n",
      "mioArray3: [  1 -10   4   5] \n",
      "\n",
      "mioArray5: [  1 -10   4   5] \n",
      "\n",
      "np.all eseguito su mask1:  False\n",
      "np.all eseguito su mask2:  True\n"
     ]
    }
   ],
   "source": [
    "# Hint 1\n",
    "\n",
    "# E' molto comodo fare operazioni tra un numero e tutti gli elementi di un array senza usare cicli for\n",
    "# Esempio: \n",
    "\n",
    "# 10/[1,2,3] # Wrong: Non è possibile dividere un numero per gli elementi di una lista con il semplice operatore '/'\n",
    "risultatoDivisione = 10/np.array([1,2,3]) # Se lavoriamo con gli array di numpy, allora l'operazione è lecita\n",
    "print(risultatoDivisione)\n",
    "\n",
    "# Hint 2\n",
    "# Possiamo aggiungere elementi/rimuovere ad una array in maniera simile (ma non del tutto uguale) a come facevamo per le liste\n",
    "mioArray1 = [1,2,3]\n",
    "print(f\"mioArray1: {mioArray1} \\n\")\n",
    "\n",
    "mioArray2 = np.append(mioArray1,[4,5]) # Aggiungo elementi 4 e 5 alla fine dell'array\n",
    "print(f\"mioArray2: {mioArray2} \\n\")\n",
    "\n",
    "mioArray3 = np.insert(mioArray2,1,-10) # Inserisco -10 in posizione 1 del vettore mioArray2\n",
    "print(f\"mioArray3: {mioArray3} \\n\")\n",
    "\n",
    "mioArray4 = np.delete(mioArray3,[2,3]) # Rimuovo elementi da mioArray3 che stanno in posizione 2 e 3\n",
    "print(f\"mioArray3: {mioArray4} \\n\")\n",
    "\n",
    "mask = np.ones(len(mioArray3), dtype=bool)  # Inizializzo una maschera con valori booleani tutti uguali a 1 \n",
    "mask[[2,3]] = False\n",
    "mioArray5 = mioArray3[mask] # Ripeto l'operazione di prima ma usando il concetto di masking (indicizzazione tramite variabili Booleane)\n",
    "print(f\"mioArray5: {mioArray5} \\n\")\n",
    "\n",
    "# Hint 3\n",
    "# Se avete un vettore di variabili Booleane e volte verificare se sono tutte vere, potete usare il comando np.all\n",
    "\n",
    "mask1 = [True, True, True, False]\n",
    "print(f\"np.all eseguito su mask1: \", np.all(mask1))\n",
    "\n",
    "mask2 = [True, True, True, True]\n",
    "print(f\"np.all eseguito su mask2: \", np.all(mask2))"
   ]
  },
  {
   "cell_type": "code",
   "execution_count": 20,
   "metadata": {},
   "outputs": [
    {
     "data": {
      "text/plain": [
       "array([  3.,   5.,   7.,  11.,  13.,  17.,  19.,  23.,  29.,  31.,  37.,\n",
       "        41.,  43.,  47.,  53.,  59.,  61.,  67.,  71.,  73.,  79.,  83.,\n",
       "        89.,  97., 101., 103., 107., 109., 113., 127., 131., 137., 139.,\n",
       "       149., 151., 157., 163., 167., 173., 179., 181., 191., 193., 197.,\n",
       "       199., 211., 223., 227., 229., 233., 239., 241., 251., 257., 263.,\n",
       "       269., 271., 277., 281., 283., 293., 307., 311., 313., 317., 331.,\n",
       "       337., 347., 349., 353., 359., 367., 373., 379., 383., 389., 397.,\n",
       "       401., 409., 419., 421., 431., 433., 439., 443., 449., 457., 461.,\n",
       "       463., 467., 479., 487., 491., 499., 503., 509., 521., 523., 541.,\n",
       "       547., 557., 563., 569., 571., 577., 587., 593., 599., 601., 607.,\n",
       "       613., 617., 619., 631., 641., 643., 647., 653., 659., 661., 673.,\n",
       "       677., 683., 691., 701., 709., 719., 727., 733., 739., 743., 751.,\n",
       "       757., 761., 769., 773., 787., 797., 809., 811., 821., 823., 827.,\n",
       "       829., 839., 853., 857., 859., 863., 877., 881., 883., 887., 907.,\n",
       "       911., 919., 929., 937., 941., 947., 953., 967., 971., 977., 983.,\n",
       "       991., 997.])"
      ]
     },
     "execution_count": 20,
     "metadata": {},
     "output_type": "execute_result"
    }
   ],
   "source": [
    "# Solution\n",
    "def numeriPrimi(n=1000):\n",
    "    primes = np.array([])\n",
    "    for i in range(n):\n",
    "        for j in range((i//2)+1):\n",
    "            if i%(j+2) == 0: break\n",
    "            if j == (i//2):\n",
    "                primes = np.append(primes, i)\n",
    "    primes = np.delete(primes, [0])\n",
    "    primes = np.insert(primes, 0, 3)\n",
    "    return primes\n",
    "\n",
    "primes = numeriPrimi(1000)\n",
    "primes"
   ]
  },
  {
   "cell_type": "markdown",
   "metadata": {},
   "source": [
    "### 3.2 (opzionale, per ripassare i dizionari)\n",
    "Si scriva una funzione  ``creoMioDizionario(N)`` che riceve come argomento (opzionale) di ingresso un numero intero ``N`` (valore di default ``N=1000``) e restituisce un dizionario con due elementi. Il primo ha chiave \"medio\", a cui è associato un array con tutti i numeri primi compresi tra $\\frac{1}{4}N$ e $\\frac{3}{4}N$ (estremi inclusi). Il secondo elemento del dizionario ha chiave \"estremi\" e contiene i restanti numeri primi minori di $N$. Hint: Usa la funzione ``numeriPrimi(N)`` creata precedentemente.   "
   ]
  },
  {
   "cell_type": "code",
   "execution_count": 21,
   "metadata": {},
   "outputs": [
    {
     "name": "stdout",
     "output_type": "stream",
     "text": [
      "array1: [0 1 2 3 4 5 6 7 8 9]\n",
      "mask1:  [False False False  True  True  True  True  True False False]\n",
      "mask2:  [False  True  True]\n"
     ]
    }
   ],
   "source": [
    "# Hint\n",
    "\n",
    "# Ricordatevi che l'operatore logico AND (rispettivamente OR) tra 2 variabili Booleane (o array Booleani) \n",
    "# si esegue in Python tramite l'operatore ``&`` (rispettivamente ``|``)\n",
    "\n",
    "array1 = np.array(np.arange(10))\n",
    "print(f\"array1: {array1}\")\n",
    "\n",
    "mask1 = (array1 > 2) & (array1 < 8)\n",
    "print(\"mask1: \", mask1)\n",
    "\n",
    "mask2 = (array1[0:3] == 2) | (array1[0:3] == 1)\n",
    "print(\"mask2: \", mask2)"
   ]
  },
  {
   "cell_type": "code",
   "execution_count": 22,
   "metadata": {},
   "outputs": [],
   "source": [
    "# Solution\n"
   ]
  },
  {
   "cell_type": "markdown",
   "metadata": {},
   "source": [
    "## Per chi vuole portarsi avanti: introduzione a Plotly\n",
    "(opzionale, ne parleremo a lezione Lunedi' prossimo).\n",
    "\n",
    "Il primo passo e' installare plotly nel nostro environment conda.\n",
    "- Per chi usa Linux: \n",
    "    - `source activate <nome environment>`\n",
    "    - `conda install plotly`\n",
    "- Per chi usa Windows:\n",
    "    - Aprite `Anaconda prompt` dal Menu Start di Windows\n",
    "    - digitare `conda install -c plotly plotly`"
   ]
  },
  {
   "cell_type": "markdown",
   "metadata": {},
   "source": [
    "Il seguente programma Python è un esempio sull'uso del pacchetto plotly e disegna una parabola."
   ]
  },
  {
   "cell_type": "code",
   "execution_count": 23,
   "metadata": {},
   "outputs": [
    {
     "ename": "ModuleNotFoundError",
     "evalue": "No module named 'plotly'",
     "output_type": "error",
     "traceback": [
      "\u001b[0;31m---------------------------------------------------------------------------\u001b[0m",
      "\u001b[0;31mModuleNotFoundError\u001b[0m                       Traceback (most recent call last)",
      "\u001b[0;32m<ipython-input-23-48bdb6c51e0f>\u001b[0m in \u001b[0;36m<module>\u001b[0;34m\u001b[0m\n\u001b[1;32m      1\u001b[0m \u001b[0;31m# Esempio su come plottare una parabola con il pacchetto Python plotly\u001b[0m\u001b[0;34m\u001b[0m\u001b[0;34m\u001b[0m\u001b[0;34m\u001b[0m\u001b[0m\n\u001b[1;32m      2\u001b[0m \u001b[0;34m\u001b[0m\u001b[0m\n\u001b[0;32m----> 3\u001b[0;31m \u001b[0;32mimport\u001b[0m \u001b[0mplotly\u001b[0m\u001b[0;34m\u001b[0m\u001b[0;34m\u001b[0m\u001b[0m\n\u001b[0m\u001b[1;32m      4\u001b[0m \u001b[0;32mimport\u001b[0m \u001b[0mplotly\u001b[0m\u001b[0;34m.\u001b[0m\u001b[0mgraph_objs\u001b[0m \u001b[0;32mas\u001b[0m \u001b[0mgo\u001b[0m \u001b[0;31m# In questo modulo sono definite le classi che definiscono diversi tipi di grafici\u001b[0m\u001b[0;34m\u001b[0m\u001b[0;34m\u001b[0m\u001b[0m\n\u001b[1;32m      5\u001b[0m \u001b[0mplotly\u001b[0m\u001b[0;34m.\u001b[0m\u001b[0moffline\u001b[0m\u001b[0;34m.\u001b[0m\u001b[0minit_notebook_mode\u001b[0m\u001b[0;34m(\u001b[0m\u001b[0mconnected\u001b[0m\u001b[0;34m=\u001b[0m\u001b[0;32mTrue\u001b[0m\u001b[0;34m)\u001b[0m \u001b[0;31m# All'inizio del vostro script scrivete questo comando per visualizzare i grafici sul notebook\u001b[0m\u001b[0;34m\u001b[0m\u001b[0;34m\u001b[0m\u001b[0m\n",
      "\u001b[0;31mModuleNotFoundError\u001b[0m: No module named 'plotly'"
     ]
    }
   ],
   "source": [
    "# Esempio su come plottare una parabola con il pacchetto Python plotly\n",
    "\n",
    "import plotly\n",
    "import plotly.graph_objs as go # In questo modulo sono definite le classi che definiscono diversi tipi di grafici\n",
    "plotly.offline.init_notebook_mode(connected=True) # All'inizio del vostro script scrivete questo comando per visualizzare i grafici sul notebook\n",
    "\n",
    "# Proviamo a stampare una parambola y=x**2\n",
    "xValue = np.linspace(-1,1,100) # Genero 100 valori di x nell'intervallo [-1, 1]\n",
    "yValue = xValue**2\n",
    "\n",
    "# Definisco una traccia creando un oggetto della classe Scatter (la traccia contiene dati e specifiche sui dati che vogliamo plottare: es. colore dei punti o delle linee, stile)\n",
    "traceParabola = go.Scatter(x = xValue,\n",
    "                    y = yValue)\n",
    "                   \n",
    "\n",
    "# con l'oggetto layout definisco lo stile del grafico e tutte le caretteristiche non legate ai dati che voglio plottare (es. titolo del grafico, nome degli assi)     \n",
    "layout = go.Layout(title = 'Mio primo grafico')\n",
    "\n",
    "# Genero un oggetto della classe Figure (che contiene tutti i parametri necessari per generare la figura: tracce e layout)\n",
    "figure = go.Figure(data = [traceParabola], layout = layout)\n",
    "\n",
    "# Plotto la figura (lavoro offline e visualizzo il grafico su notebook)\n",
    "plotly.offline.iplot(figure)"
   ]
  },
  {
   "cell_type": "markdown",
   "metadata": {},
   "source": [
    "Adesso proviamo ad migliorare un po' l'aspetto del grafico (nominiamo gli assi, cambiamo i colori del grafico, settiamo dei limiti agli assi x e y, etc.)"
   ]
  },
  {
   "cell_type": "code",
   "execution_count": null,
   "metadata": {},
   "outputs": [],
   "source": [
    "# Aggiungo alcuni attributi alla traccia all'oggetto della classe Scatter\n",
    "traceParabola = go.Scatter(x = xValue,\n",
    "                    y = yValue,\n",
    "                    name = 'parabola',      # Do' un nome alla curva che plotto\n",
    "                    mode = 'markers+lines', # non plotto solo una linea, ma anche i 100 punti che formano la mia curva\n",
    "                    marker = {'color': 'red', 'size': 4, 'symbol': 'circle'} # definisco aspetto dei punti (colore, dimensione, tipo)\n",
    "                   )\n",
    "\n",
    "\n",
    "#   Aggiungo attributi all'oggeto che definisce il layout della figura (nome degli assi, range degli assi, etc.)     \n",
    "layout = go.Layout(title = 'Mio secondo grafico', \n",
    "                  showlegend = True,           # Stampa la legenda\n",
    "                  xaxis = {'title': 'Asse x',  # Modificando il campo xaxix definisco aspetto dell'asse x \n",
    "                          'showgrid': False,   # Non voglio le griglie sull'asse x (è sempre meglio mettere le griglie, ma per adesso stiamo giocando)\n",
    "                          'titlefont': dict(\n",
    "                                family= 'Times new roman',\n",
    "                                size =  18,\n",
    "                                color =  'red'),\n",
    "                           'range': [-2, 2]\n",
    "                              },\n",
    "                  yaxis = {'title': 'Asse y',\n",
    "                            'tickfont': dict(\n",
    "                                        family='Old Standard TT, serif',\n",
    "                                        size=20,\n",
    "                                        color='black'\n",
    "                                        )}\n",
    "                  )\n",
    "\n",
    "# Genero un oggetto della classe Figure (che contiene tutti i parametri necessari per generare la figura: tracce e layout)\n",
    "figure = go.Figure(data = [traceParabola], layout = layout)\n",
    "\n",
    "# Plotto la figura (lavoro offline e visualizzo il grafico su notebook)\n",
    "plotly.offline.iplot(figure)\n",
    "\n",
    "# Plotto la figura (lavoro offline e visualizzo il grafico su una nuova finestra del browser)\n",
    "#plotly.offline.plot(figure, filename = \"Mia Figura \")"
   ]
  },
  {
   "cell_type": "markdown",
   "metadata": {},
   "source": [
    "E se volessi plottare una nuova curva nello stesso grafico? Facile, basta definire un'altra traccia e aggiungerla alla lista che definisce il campo ``data`` nella definizione dell'oggetto ``figure``. Vedi script sotto"
   ]
  },
  {
   "cell_type": "code",
   "execution_count": null,
   "metadata": {},
   "outputs": [],
   "source": [
    "# Voglio plottare anche la funzione y=2*x nel grafico precedente\n",
    "\n",
    "yRetta = 2*xValue\n",
    "\n",
    "# Definisco la nuova traccia\n",
    "traceRetta = go.Scatter(x = xValue, y = yRetta, name = 'retta', line = {'color': 'blue'}) \n",
    "\n",
    "figure = go.Figure(data = [traceParabola, traceRetta], layout = layout)\n",
    "\n",
    "plotly.offline.iplot(figure)"
   ]
  },
  {
   "cell_type": "markdown",
   "metadata": {},
   "source": [
    "### 4.1\n",
    "Copiate lo script sopra e cambiate a vostro piacimento i campi degli oggetti ``tracciaParabola`` (di classe ``Scatter``) e ``layout`` (di classe ``Layout``) per modificare l'aspetto del grafico a vostro piacimento (esempio, cambiate il titolo del grafico, cambiate i colori, cambite i range degli assi, modificate i font degli assi, etc.). Provate anche ad aggiungere nello stesso grafico il plot della funzione $y=x^3$.  \n",
    "\n",
    "Notate che gli oggetti delle classi ``Scatter`` e ``Layout`` hanno tantissimi attributi, che vi permettono di modificare l'aspetto del grafico in tantissimi modi. Una lista completa degli attributi delle classi in Plotly potete trovarla [qui](https://plot.ly/python/reference/). Oppure, guardate (e capite!!) gli [esempi](https://plot.ly/python/)   "
   ]
  },
  {
   "cell_type": "code",
   "execution_count": null,
   "metadata": {},
   "outputs": [],
   "source": []
  }
 ],
 "metadata": {
  "kernelspec": {
   "display_name": "Python 3",
   "language": "python",
   "name": "python3"
  },
  "language_info": {
   "codemirror_mode": {
    "name": "ipython",
    "version": 3
   },
   "file_extension": ".py",
   "mimetype": "text/x-python",
   "name": "python",
   "nbconvert_exporter": "python",
   "pygments_lexer": "ipython3",
   "version": "3.7.3"
  }
 },
 "nbformat": 4,
 "nbformat_minor": 2
}
