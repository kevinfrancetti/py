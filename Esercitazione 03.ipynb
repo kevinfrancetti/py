{
 "cells": [
  {
   "cell_type": "markdown",
   "metadata": {},
   "source": [
    "# Esercitazione 3"
   ]
  },
  {
   "cell_type": "markdown",
   "metadata": {},
   "source": [
    "## Istruzioni\n",
    "Valgono le stesse istruzioni delle esercitazioni precedenti. \n",
    "\n",
    "Scrivi il programma Python nella cella sotto il testo dell'esercizio (o creane una nuova). Stampa sempre a video il risultato finale per verificare la correttezza dell'esercizio.  Talvolta richiamiamo alcuni concetti importanti in una cella di codice sotto il testo dell'esercizio, prova a eseguirla ed eventualmente modificarla per assicurarti di aver capito il necessario.\n",
    "\n",
    "\n",
    "## Consegna\n",
    "Valgono le regole delle esercitazioni precedenti.\n",
    "\n",
    "E' obbligatorio **consegnare la soluzione di tutti gli esercizi** (tranne quelli marcati come opzionali) **entro l'inizio della lezione successiva** (in questo caso entro Lunedi' prossimo), nell'apposito assignment su iCorsi.  Per consegnare:\n",
    "- eseguire l'intero notebook partendo da zero (`Kernel -> Restart & Run All`), e controllare che le soluzioni siano quelle attese;\n",
    "- esportare il notebook in formato html (`File -> Download as...`) e consegnare il file risultante.\n",
    "\n",
    "Nel caso non abbiate potuto completare uno o piu' esercizi, descrivete il problema incontrato e **consegnate comunque il file con il resto delle soluzioni**."
   ]
  },
  {
   "cell_type": "markdown",
   "metadata": {},
   "source": [
    "## Esercizio 1 (statistiche sui Campionati Mondiali FIFA 2018)\n",
    "\n",
    "In questo esercizio farete una semplice analisi statistica sui campionati mondiali di calcio [FIFA 2018](https://www.fifa.com/worldcup/). Sotto la voce [statistics](https://www.fifa.com/worldcup/statistics/) potete trovare vari dati sulle partite del mondiale, come numero di goal segnati da ogni giocatore, cartellini gialli e rossi per giocatore, numero di tiri effettuati in ogni partita da ogni giocatore, numero di passaggi completati da ogni giocatore, etc.\n",
    "\n",
    "Concentriamoci sui tiri effettuati da ogni giocatore (vedi [Tabella](https://www.fifa.com/worldcup/statistics/players/shots)). Per prima cosa, dobbiamo caricare la tabella in Python. Per fare questo utilizzeremo il pacchetto [Pandas](http://pandas.pydata.org/pandas-docs/stable/), una potente libreria in Python che permette di importare dati da file di vari formati, come file JSON, MS Excel, CSV, HTML, SQL, etc. \n",
    "\n",
    "In realtà Pandas ha molte altre funzionalità per l'analisi dei dati, ma in questo corso ci limiteremo ad utilizzare Pandas solo per importare dati. Se sei interessato a maggiori dettagli su Pandas e ad alcune sue funzionalità, puoi trovare una rapida introduzione a Pandas [QUI](https://jakevdp.github.io/PythonDataScienceHandbook/03.00-introduction-to-pandas.html).\n",
    "\n",
    "Nel nostro esercizio importeremo dati da un file HTML. In genere basta semplicemente eseguire il comando ``pandas.read_html(\"url string\")``, come mostrato in un esempio nella cella sotto."
   ]
  },
  {
   "cell_type": "code",
   "execution_count": 1,
   "metadata": {},
   "outputs": [
    {
     "name": "stdout",
     "output_type": "stream",
     "text": [
      "[                                             Bank Name                City  \\\n",
      "0                                 The Enloe State Bank              Cooper   \n",
      "1                  Washington Federal Bank for Savings             Chicago   \n",
      "2      The Farmers and Merchants State Bank of Argonia             Argonia   \n",
      "3                                  Fayette County Bank          Saint Elmo   \n",
      "4    Guaranty Bank, (d/b/a BestBank in Georgia & Mi...           Milwaukee   \n",
      "5                                       First NBC Bank         New Orleans   \n",
      "6                                        Proficio Bank  Cottonwood Heights   \n",
      "7                        Seaway Bank and Trust Company             Chicago   \n",
      "8                               Harvest Community Bank          Pennsville   \n",
      "9                                          Allied Bank            Mulberry   \n",
      "10                        The Woodbury Banking Company            Woodbury   \n",
      "11                              First CornerStone Bank     King of Prussia   \n",
      "12                                  Trust Company Bank             Memphis   \n",
      "13                          North Milwaukee State Bank           Milwaukee   \n",
      "14                              Hometown National Bank            Longview   \n",
      "15                                 The Bank of Georgia      Peachtree City   \n",
      "16                                        Premier Bank              Denver   \n",
      "17                                      Edgebrook Bank             Chicago   \n",
      "18                              Doral Bank  En Español            San Juan   \n",
      "19                   Capitol City Bank & Trust Company             Atlanta   \n",
      "20                             Highland Community Bank             Chicago   \n",
      "21                    First National Bank of Crestview           Crestview   \n",
      "22                                  Northern Star Bank             Mankato   \n",
      "23              Frontier Bank, FSB D/B/A El Paseo Bank         Palm Desert   \n",
      "24               The National Republic Bank of Chicago             Chicago   \n",
      "25                                      NBRS Financial          Rising Sun   \n",
      "26                               GreenChoice Bank, fsb             Chicago   \n",
      "27                            Eastside Commercial Bank             Conyers   \n",
      "28                              The Freedom State Bank             Freedom   \n",
      "29                                         Valley Bank     Fort Lauderdale   \n",
      "..                                                 ...                 ...   \n",
      "526                                  ANB Financial, NA         Bentonville   \n",
      "527                                          Hume Bank                Hume   \n",
      "528                             Douglass National Bank         Kansas City   \n",
      "529                                  Miami Valley Bank            Lakeview   \n",
      "530                                            NetBank          Alpharetta   \n",
      "531                          Metropolitan Savings Bank          Pittsburgh   \n",
      "532                                    Bank of Ephraim             Ephraim   \n",
      "533                                      Reliance Bank        White Plains   \n",
      "534              Guaranty National Bank of Tallahassee         Tallahassee   \n",
      "535                                Dollar Savings Bank              Newark   \n",
      "536                               Pulaski Savings Bank        Philadelphia   \n",
      "537              First National Bank of Blanchardville      Blanchardville   \n",
      "538                              Southern Pacific Bank            Torrance   \n",
      "539                        Farmers Bank of Cheneyville         Cheneyville   \n",
      "540                                      Bank of Alamo               Alamo   \n",
      "541             AmTrade International Bank  En Español             Atlanta   \n",
      "542                     Universal Federal Savings Bank             Chicago   \n",
      "543                       Connecticut Bank of Commerce            Stamford   \n",
      "544                                   New Century Bank     Shelby Township   \n",
      "545                              Net 1st National Bank          Boca Raton   \n",
      "546                                       NextBank, NA             Phoenix   \n",
      "547                           Oakwood Deposit Bank Co.             Oakwood   \n",
      "548                              Bank of Sierra Blanca       Sierra Blanca   \n",
      "549                      Hamilton Bank, NA  En Español               Miami   \n",
      "550                             Sinclair National Bank            Gravette   \n",
      "551                                 Superior Bank, FSB            Hinsdale   \n",
      "552                                Malta National Bank               Malta   \n",
      "553                    First Alliance Bank & Trust Co.          Manchester   \n",
      "554                  National State Bank of Metropolis          Metropolis   \n",
      "555                                   Bank of Honolulu            Honolulu   \n",
      "\n",
      "     ST   CERT                Acquiring Institution        Closing Date  \\\n",
      "0    TX  10716                   Legend Bank, N. A.        May 31, 2019   \n",
      "1    IL  30570                   Royal Savings Bank   December 15, 2017   \n",
      "2    KS  17719                          Conway Bank    October 13, 2017   \n",
      "3    IL   1802            United Fidelity Bank, fsb        May 26, 2017   \n",
      "4    WI  30003  First-Citizens Bank & Trust Company         May 5, 2017   \n",
      "5    LA  58302                         Whitney Bank      April 28, 2017   \n",
      "6    UT  35495                    Cache Valley Bank       March 3, 2017   \n",
      "7    IL  19328                  State Bank of Texas    January 27, 2017   \n",
      "8    NJ  34951  First-Citizens Bank & Trust Company    January 13, 2017   \n",
      "9    AR     91                         Today's Bank  September 23, 2016   \n",
      "10   GA  11297                          United Bank     August 19, 2016   \n",
      "11   PA  35312  First-Citizens Bank & Trust Company         May 6, 2016   \n",
      "12   TN   9956           The Bank of Fayette County      April 29, 2016   \n",
      "13   WI  20364  First-Citizens Bank & Trust Company      March 11, 2016   \n",
      "14   WA  35156                       Twin City Bank     October 2, 2015   \n",
      "15   GA  35259                        Fidelity Bank     October 2, 2015   \n",
      "16   CO  34112            United Fidelity Bank, fsb       July 10, 2015   \n",
      "17   IL  57772             Republic Bank of Chicago         May 8, 2015   \n",
      "18   PR  32102         Banco Popular de Puerto Rico   February 27, 2015   \n",
      "19   GA  33938  First-Citizens Bank & Trust Company   February 13, 2015   \n",
      "20   IL  20290            United Fidelity Bank, fsb    January 23, 2015   \n",
      "21   FL  17557                       First NBC Bank    January 16, 2015   \n",
      "22   MN  34983                            BankVista   December 19, 2014   \n",
      "23   CA  34738    Bank of Southern California, N.A.    November 7, 2014   \n",
      "24   IL    916                  State Bank of Texas    October 24, 2014   \n",
      "25   MD   4862                          Howard Bank    October 17, 2014   \n",
      "26   IL  28462                 Providence Bank, LLC       July 25, 2014   \n",
      "27   GA  58125            Community & Southern Bank       July 18, 2014   \n",
      "28   OK  12483      Alva State Bank & Trust Company       June 27, 2014   \n",
      "29   FL  21793  Landmark Bank, National Association       June 20, 2014   \n",
      "..   ..    ...                                  ...                 ...   \n",
      "526  AR  33901       Pulaski Bank and Trust Company         May 9, 2008   \n",
      "527  MO   1971                        Security Bank       March 7, 2008   \n",
      "528  MO  24660       Liberty Bank and Trust Company    January 25, 2008   \n",
      "529  OH  16848         The Citizens Banking Company     October 4, 2007   \n",
      "530  GA  32575                           ING DIRECT  September 28, 2007   \n",
      "531  PA  35353  Allegheny Valley Bank of Pittsburgh    February 2, 2007   \n",
      "532  UT   1249                        Far West Bank       June 25, 2004   \n",
      "533  NY  26778                     Union State Bank      March 19, 2004   \n",
      "534  FL  26838              Hancock Bank of Florida      March 12, 2004   \n",
      "535  NJ  31330                          No Acquirer   February 14, 2004   \n",
      "536  PA  27203                       Earthstar Bank   November 14, 2003   \n",
      "537  WI  11639                        The Park Bank         May 9, 2003   \n",
      "538  CA  27094                            Beal Bank    February 7, 2003   \n",
      "539  LA  16445            Sabine State Bank & Trust   December 17, 2002   \n",
      "540  TN   9961                          No Acquirer    November 8, 2002   \n",
      "541  GA  33784                          No Acquirer  September 30, 2002   \n",
      "542  IL  29355               Chicago Community Bank       June 27, 2002   \n",
      "543  CT  19183                   Hudson United Bank       June 26, 2002   \n",
      "544  MI  34979                          No Acquirer      March 28, 2002   \n",
      "545  FL  26652                       Bank Leumi USA       March 1, 2002   \n",
      "546  AZ  22314                          No Acquirer    February 7, 2002   \n",
      "547  OH   8966       The State Bank & Trust Company    February 1, 2002   \n",
      "548  TX  22002     The Security State Bank of Pecos    January 18, 2002   \n",
      "549  FL  24382     Israel Discount Bank of New York    January 11, 2002   \n",
      "550  AR  34248                   Delta Trust & Bank   September 7, 2001   \n",
      "551  IL  32646                Superior Federal, FSB       July 27, 2001   \n",
      "552  OH   6629                    North Valley Bank         May 3, 2001   \n",
      "553  NH  34264  Southern New Hampshire Bank & Trust    February 2, 2001   \n",
      "554  IL   3815              Banterra Bank of Marion   December 14, 2000   \n",
      "555  HI  21029                   Bank of the Orient    October 13, 2000   \n",
      "\n",
      "           Updated Date  \n",
      "0       August 22, 2019  \n",
      "1         July 24, 2019  \n",
      "2       August 12, 2019  \n",
      "3      January 29, 2019  \n",
      "4        March 22, 2018  \n",
      "5      January 29, 2019  \n",
      "6      January 29, 2019  \n",
      "7      January 29, 2019  \n",
      "8    September 20, 2019  \n",
      "9          May 13, 2019  \n",
      "10    December 13, 2018  \n",
      "11    November 13, 2018  \n",
      "12   September 14, 2018  \n",
      "13     January 29, 2019  \n",
      "14    February 19, 2018  \n",
      "15         July 9, 2018  \n",
      "16    February 20, 2018  \n",
      "17     January 29, 2019  \n",
      "18     January 29, 2019  \n",
      "19     January 29, 2019  \n",
      "20    November 15, 2017  \n",
      "21    November 15, 2017  \n",
      "22      January 3, 2018  \n",
      "23    November 10, 2016  \n",
      "24      January 6, 2016  \n",
      "25     January 29, 2019  \n",
      "26    December 12, 2016  \n",
      "27      October 6, 2017  \n",
      "28    February 21, 2018  \n",
      "29     January 29, 2019  \n",
      "..                  ...  \n",
      "526    February 1, 2019  \n",
      "527    January 31, 2019  \n",
      "528    October 26, 2012  \n",
      "529  September 12, 2016  \n",
      "530    January 31, 2019  \n",
      "531    October 27, 2010  \n",
      "532       April 9, 2008  \n",
      "533       April 9, 2008  \n",
      "534      April 17, 2018  \n",
      "535       April 9, 2008  \n",
      "536     October 6, 2017  \n",
      "537        June 5, 2012  \n",
      "538    October 20, 2008  \n",
      "539    October 20, 2004  \n",
      "540      March 18, 2005  \n",
      "541  September 11, 2006  \n",
      "542     October 6, 2017  \n",
      "543   February 14, 2012  \n",
      "544      March 18, 2005  \n",
      "545       April 9, 2008  \n",
      "546    February 5, 2015  \n",
      "547    October 25, 2012  \n",
      "548    November 6, 2003  \n",
      "549  September 21, 2015  \n",
      "550     October 6, 2017  \n",
      "551     August 19, 2014  \n",
      "552   November 18, 2002  \n",
      "553   February 18, 2003  \n",
      "554      March 17, 2005  \n",
      "555      March 17, 2005  \n",
      "\n",
      "[556 rows x 7 columns]]\n"
     ]
    }
   ],
   "source": [
    "import pandas as pd\n",
    "\n",
    "url = 'http://www.fdic.gov/bank/individual/failed/banklist.html'\n",
    "df = pd.read_html(url)\n",
    "\n",
    "print(df)"
   ]
  },
  {
   "cell_type": "markdown",
   "metadata": {},
   "source": [
    "Il comando ``pd.read_html()`` restituisce una ``lista`` contenente tutte le tabelle presenti nell' HTML. Pertanto, ogni elemento della lista è una tabella (o, piu' precisamente, un oggetto della libreria Pandas di tipo ``DataFrame``). Provate ad eseguire i comandi ``type(df)`` e ``type(df[0])`` per conferma. "
   ]
  },
  {
   "cell_type": "code",
   "execution_count": 2,
   "metadata": {},
   "outputs": [
    {
     "name": "stdout",
     "output_type": "stream",
     "text": [
      "<class 'list'>\n",
      "<class 'pandas.core.frame.DataFrame'>\n"
     ]
    }
   ],
   "source": [
    "print(type(df))\n",
    "\n",
    "print(type(df[0]))"
   ]
  },
  {
   "cell_type": "markdown",
   "metadata": {},
   "source": [
    "Torniamo adesso ai mondiali FIFA 2018 e carichiamo la [Tabella](https://www.fifa.com/worldcup/statistics/players/shots) con i tiri effettuati da ogni giocatore. Se proviamo ad eseguire i comandi della cella sopra, il server HTTP ci restituisce un errore di tipo ``HTTP Error 403: Forbidden`` (in parole povere, il server HTTP non ha accettato la richiesta di fare il parsing del file HTML). Senza entrare nel dettaglio, facciamo in modo che la nostra richiesta al server venga inviata come verrebbe inviata tramite un browser. Per fare questo basta eseguire i comandi della cella sotto. "
   ]
  },
  {
   "cell_type": "code",
   "execution_count": 3,
   "metadata": {},
   "outputs": [],
   "source": [
    "import pandas as pd\n",
    "import requests\n",
    "\n",
    "url = 'https://www.fifa.com/worldcup/statistics/players/shots'\n",
    "\n",
    "header = {\n",
    "  \"User-Agent\": \"Chrome/50.1.3672\",\n",
    "  \"X-Requested-With\": \"XMLHttpRequest\"\n",
    "}\n",
    "\n",
    "r = requests.get(url, headers=header)\n",
    "\n",
    "listaDf = pd.read_html(r.text)\n",
    "df = listaDf[0]"
   ]
  },
  {
   "cell_type": "markdown",
   "metadata": {},
   "source": [
    "Se avete eseguito la cella sopra, la tabella (nel seguito dataframe) dei tiri si trova nella variabile ``df``. Proviamo a visualizzare questo dataframe."
   ]
  },
  {
   "cell_type": "code",
   "execution_count": 4,
   "metadata": {},
   "outputs": [
    {
     "name": "stdout",
     "output_type": "stream",
     "text": [
      "       #               Player  Matches Played  MP  Minutes Played  MinP  \\\n",
      "0      1               NEYMAR                   5                   450   \n",
      "1      2    PHILIPPE COUTINHO                   5                   436   \n",
      "2      3         Ivan PERISIC                   7                   632   \n",
      "3      4    Antoine GRIEZMANN                   7                   570   \n",
      "4      5    CRISTIANO RONALDO                   4                   360   \n",
      "5      6          Eden HAZARD                   6                   518   \n",
      "6      7         Lionel MESSI                   4                   360   \n",
      "7      8         Ivan RAKITIC                   7                   639   \n",
      "8      9        Jesse LINGARD                   6                   527   \n",
      "9     10       Edinson CAVANI                   4                   343   \n",
      "10    11           Ante REBIC                   6                   547   \n",
      "11    12          Marcus BERG                   5                   426   \n",
      "12    13           Toni KROOS                   3                   270   \n",
      "13    14        Emil FORSBERG                   5                   417   \n",
      "14    15       Olivier GIROUD                   7                   546   \n",
      "15    16           Harry KANE                   6                   573   \n",
      "16    17          Luis SUAREZ                   5                   450   \n",
      "17    18  Aleksandar MITROVIC                   3                   268   \n",
      "18    19         SON Heungmin                   3                   270   \n",
      "19    20        Romelu LUKAKU                   6                   476   \n",
      "20    21      Mario MANDZUKIC                   6                   608   \n",
      "21    22      Kevin DE BRUYNE                   6                   540   \n",
      "22    23       Hirving LOZANO                   4                   317   \n",
      "23    24      Xherdan SHAQIRI                   4                   351   \n",
      "24    25      Denis CHERYSHEV                   5                   304   \n",
      "25    26    Christian ERIKSEN                   4                   390   \n",
      "26    27          Diego COSTA                   4                   320   \n",
      "27    28        Harry MAGUIRE                   7                   645   \n",
      "28    29     Gylfi SIGURDSSON                   3                   270   \n",
      "29    30         Wahbi KHAZRI                   3                   264   \n",
      "..   ...                  ...                 ...                   ...   \n",
      "375  376          Marko PJACA                   3                    83   \n",
      "376  377       Lucas TORREIRA                   5                   304   \n",
      "377  378       Cristian PAVON                   4                   153   \n",
      "378  379       Pontus JANSSON                   2                    96   \n",
      "379  380     Andrija ZIVKOVIC                   1                    15   \n",
      "380  381              WILLIAM                   4                   360   \n",
      "381  382          ANDRE SILVA                   3                   115   \n",
      "382  383       Ramin REZAEIAN                   3                   270   \n",
      "383  384            Gen SHOJI                   3                   270   \n",
      "384  385         LEE Seungwoo                   2                    43   \n",
      "385  386         Renato TAPIA                   2                   150   \n",
      "386  387         Paulo DYBALA                   1                    22   \n",
      "387  388         Johan MOJICA                   4                   390   \n",
      "388  389      Jefferson LERMA                   4                   175   \n",
      "389  390         Cheikh NDOYE                   2                    37   \n",
      "390  391        Joshua RISDON                   3                   270   \n",
      "391  392         Ghanem SAISS                   2                   180   \n",
      "392  393          Ngolo KANTE                   7                   595   \n",
      "393  394        Achraf HAKIMI                   3                   270   \n",
      "394  395       Jon BODVARSSON                   1                    71   \n",
      "395  396     Arnor TRAUSTASON                   1                     1   \n",
      "396  397         Marcos ACUNA                   1                    90   \n",
      "397  398             ALI GABR                   3                   270   \n",
      "398  399         Thomas LEMAR                   1                    90   \n",
      "399  400       Jacek GORALSKI                   2                   180   \n",
      "400  401       Jesus GALLARDO                   4                   335   \n",
      "401  402      Roozbeh CHESHMI                   1                    90   \n",
      "402  403     Ghaylen CHAALELI                   1                    90   \n",
      "403  404        Ricardo AVILA                   2                   109   \n",
      "404  405       Ayoub EL KAABI                   2                    99   \n",
      "\n",
      "     Shots  S  Attempts On Target  ON  Attempts Off Target  OFF  \\\n",
      "0          27                      13                         5   \n",
      "1          22                       7                         6   \n",
      "2          22                       4                        13   \n",
      "3          21                      11                         7   \n",
      "4          21                       8                         4   \n",
      "5          17                       6                         6   \n",
      "6          17                       6                         3   \n",
      "7          17                       5                        10   \n",
      "8          17                       2                         6   \n",
      "9          16                       6                         6   \n",
      "10         16                       5                         4   \n",
      "11         15                       8                         4   \n",
      "12         15                       5                         5   \n",
      "13         15                       3                         6   \n",
      "14         15                       1                        10   \n",
      "15         14                       6                         7   \n",
      "16         14                       5                         5   \n",
      "17         14                       5                         6   \n",
      "18         14                       3                         6   \n",
      "19         13                       5                         4   \n",
      "20         13                       5                         6   \n",
      "21         13                       4                         5   \n",
      "22         13                       2                         5   \n",
      "23         13                       1                         5   \n",
      "24         12                       7                         2   \n",
      "25         12                       3                         6   \n",
      "26         11                       5                         6   \n",
      "27         11                       3                         8   \n",
      "28         10                       6                         4   \n",
      "29         10                       5                         2   \n",
      "..        ...                     ...                       ...   \n",
      "375         1                       0                         0   \n",
      "376         1                       0                         0   \n",
      "377         1                       0                         0   \n",
      "378         1                       0                         1   \n",
      "379         1                       0                         1   \n",
      "380         1                       0                         0   \n",
      "381         1                       0                         1   \n",
      "382         1                       0                         1   \n",
      "383         1                       0                         1   \n",
      "384         1                       0                         0   \n",
      "385         1                       0                         0   \n",
      "386         1                       0                         1   \n",
      "387         1                       0                         1   \n",
      "388         1                       0                         0   \n",
      "389         1                       0                         1   \n",
      "390         1                       0                         0   \n",
      "391         1                       0                         1   \n",
      "392         1                       0                         0   \n",
      "393         1                       0                         0   \n",
      "394         1                       0                         1   \n",
      "395         1                       0                         1   \n",
      "396         1                       0                         0   \n",
      "397         1                       0                         1   \n",
      "398         1                       0                         0   \n",
      "399         1                       0                         1   \n",
      "400         1                       0                         1   \n",
      "401         1                       0                         1   \n",
      "402         1                       0                         0   \n",
      "403         1                       0                         1   \n",
      "404         1                       0                         1   \n",
      "\n",
      "     Shots blocked  SB  \n",
      "0                    9  \n",
      "1                    9  \n",
      "2                    5  \n",
      "3                    3  \n",
      "4                    9  \n",
      "5                    5  \n",
      "6                    8  \n",
      "7                    2  \n",
      "8                    9  \n",
      "9                    4  \n",
      "10                   7  \n",
      "11                   3  \n",
      "12                   5  \n",
      "13                   6  \n",
      "14                   4  \n",
      "15                   1  \n",
      "16                   4  \n",
      "17                   3  \n",
      "18                   5  \n",
      "19                   4  \n",
      "20                   2  \n",
      "21                   4  \n",
      "22                   6  \n",
      "23                   7  \n",
      "24                   3  \n",
      "25                   3  \n",
      "26                   0  \n",
      "27                   0  \n",
      "28                   0  \n",
      "29                   3  \n",
      "..                 ...  \n",
      "375                  1  \n",
      "376                  1  \n",
      "377                  1  \n",
      "378                  0  \n",
      "379                  0  \n",
      "380                  1  \n",
      "381                  0  \n",
      "382                  0  \n",
      "383                  0  \n",
      "384                  1  \n",
      "385                  1  \n",
      "386                  0  \n",
      "387                  0  \n",
      "388                  1  \n",
      "389                  0  \n",
      "390                  1  \n",
      "391                  0  \n",
      "392                  1  \n",
      "393                  1  \n",
      "394                  0  \n",
      "395                  0  \n",
      "396                  1  \n",
      "397                  0  \n",
      "398                  1  \n",
      "399                  0  \n",
      "400                  0  \n",
      "401                  0  \n",
      "402                  1  \n",
      "403                  0  \n",
      "404                  0  \n",
      "\n",
      "[405 rows x 8 columns]\n"
     ]
    }
   ],
   "source": [
    "print(df)"
   ]
  },
  {
   "cell_type": "markdown",
   "metadata": {},
   "source": [
    "Adesso estraiamo ogni colonna del dataframe ``df`` e la convertiamo in un ``numpy array``. Prima di tutto visualizzamo i *labels* di ogni colonna. Le *labels* delle colonne sarebbero i nomi delle colonne che potete vedere se avete stampato il dataframe ``df`` nella cella precedente. Tuttavia, non sempre è facile vedere i nomi delle colonne quando lavoriamo su Jupyter Notebook. Meglio visualizzare le *labels* tramite il comando ``df.columns``.  "
   ]
  },
  {
   "cell_type": "code",
   "execution_count": 5,
   "metadata": {},
   "outputs": [
    {
     "name": "stdout",
     "output_type": "stream",
     "text": [
      "Index(['#', 'Player', 'Matches Played  MP', 'Minutes Played  MinP', 'Shots  S',\n",
      "       'Attempts On Target  ON', 'Attempts Off Target  OFF',\n",
      "       'Shots blocked  SB'],\n",
      "      dtype='object')\n"
     ]
    },
    {
     "data": {
      "text/plain": [
       "pandas.core.indexes.base.Index"
      ]
     },
     "execution_count": 5,
     "metadata": {},
     "output_type": "execute_result"
    }
   ],
   "source": [
    "print(df.columns)\n",
    "type(df.columns)\n",
    "#help(df.columns)"
   ]
  },
  {
   "cell_type": "markdown",
   "metadata": {},
   "source": [
    "Adesso, accediamo alla colonna desiderata con una sintassi simile a quella utilizzata per accedere al valore di un dizionario data la chiave. Nello specifico, se voglio visualizzare la colonna con il numero di tiri (*label* = *Shots  S*), e convertirla in un ``array``, eseguo il comando della cella sotto."
   ]
  },
  {
   "cell_type": "code",
   "execution_count": 6,
   "metadata": {},
   "outputs": [
    {
     "name": "stdout",
     "output_type": "stream",
     "text": [
      "tipo: <class 'numpy.ndarray'>\n",
      "[27 22 22 21 21 17 17 17 17 16 16 15 15 15 15 14 14 14 14 13 13 13 13 13\n",
      " 12 12 11 11 10 10 10 10 10 10 10 10  9  9  9  9  8  8  8  8  8  8  8  8\n",
      "  8  8  8  7  7  7  7  7  7  7  7  7  7  7  7  7  6  6  6  6  6  6  6  6\n",
      "  6  6  6  6  6  6  6  6  6  6  6  5  5  5  5  5  5  5  5  5  5  5  5  5\n",
      "  5  5  5  5  5  5  5  5  5  5  5  5  5  5  5  5  4  4  4  4  4  4  4  4\n",
      "  4  4  4  4  4  4  4  4  4  4  4  4  4  4  4  4  4  4  4  4  4  4  4  4\n",
      "  4  4  4  4  4  4  4  4  3  3  3  3  3  3  3  3  3  3  3  3  3  3  3  3\n",
      "  3  3  3  3  3  3  3  3  3  3  3  3  3  3  3  3  3  3  3  3  3  3  3  3\n",
      "  3  3  3  3  3  3  3  3  3  3  3  3  3  3  3  3  3  3  3  3  3  3  3  3\n",
      "  3  3  2  2  2  2  2  2  2  2  2  2  2  2  2  2  2  2  2  2  2  2  2  2\n",
      "  2  2  2  2  2  2  2  2  2  2  2  2  2  2  2  2  2  2  2  2  2  2  2  2\n",
      "  2  2  2  2  2  2  2  2  2  2  2  2  2  2  2  2  2  2  2  2  2  2  2  2\n",
      "  2  2  2  2  1  1  1  1  1  1  1  1  1  1  1  1  1  1  1  1  1  1  1  1\n",
      "  1  1  1  1  1  1  1  1  1  1  1  1  1  1  1  1  1  1  1  1  1  1  1  1\n",
      "  1  1  1  1  1  1  1  1  1  1  1  1  1  1  1  1  1  1  1  1  1  1  1  1\n",
      "  1  1  1  1  1  1  1  1  1  1  1  1  1  1  1  1  1  1  1  1  1  1  1  1\n",
      "  1  1  1  1  1  1  1  1  1  1  1  1  1  1  1  1  1  1  1  1  1]\n"
     ]
    }
   ],
   "source": [
    "arrayShots = df['Shots  S'].values # Attenzione al doppio spazio tra Shots e S!!!!!!\n",
    "print(f\"tipo: {type(arrayShots)}\")\n",
    "print(arrayShots)"
   ]
  },
  {
   "cell_type": "markdown",
   "metadata": {},
   "source": [
    "### 1.1\n",
    "Si generi un nuovo array (che chiameremo arrayShotsPerGame) che calcoli, per ogni giocatore, il numero di tiri a partita (dove la partita si intende $90$ minuti di gioco). \n",
    "\n",
    "Esempio 1: Il giocatore *Fuoriclasse* ha giocato durante il mondiale 135 minuti (una partita e mezzo) e ha effettuato 19 tiri, allora il numero di tiri a partita è uguale a\n",
    "$19*\\frac{90}{135} = 12.66$. \n",
    "\n",
    "Esempio 2: Il giocatore *Campione* ha giocato durante il mondiale solo 5 minuti e ha effettuato $4$ tiri, allora il numero di tiri a partita è uguale a\n",
    "$4*\\frac{90}{5} = 72$!!! (Durante il mondiale ha tirato solo $4$ volte, ma ha giocato molto poco!!!!). \n",
    "\n",
    "Hint: il numero di minuti giocati da ogni giocatore si trova nell colonna con label ``Minutes Played  MinP``.\n"
   ]
  },
  {
   "cell_type": "code",
   "execution_count": 7,
   "metadata": {},
   "outputs": [
    {
     "data": {
      "text/plain": [
       "0       5.400000\n",
       "1       4.541284\n",
       "2       3.132911\n",
       "3       3.315789\n",
       "4       5.250000\n",
       "5       2.953668\n",
       "6       4.250000\n",
       "7       2.394366\n",
       "8       2.903226\n",
       "9       4.198251\n",
       "10      2.632541\n",
       "11      3.169014\n",
       "12      5.000000\n",
       "13      3.237410\n",
       "14      2.472527\n",
       "15      2.198953\n",
       "16      2.800000\n",
       "17      4.701493\n",
       "18      4.666667\n",
       "19      2.457983\n",
       "20      1.924342\n",
       "21      2.166667\n",
       "22      3.690852\n",
       "23      3.333333\n",
       "24      3.552632\n",
       "25      2.769231\n",
       "26      3.093750\n",
       "27      1.534884\n",
       "28      3.333333\n",
       "29      3.409091\n",
       "         ...    \n",
       "375     1.084337\n",
       "376     0.296053\n",
       "377     0.588235\n",
       "378     0.937500\n",
       "379     6.000000\n",
       "380     0.250000\n",
       "381     0.782609\n",
       "382     0.333333\n",
       "383     0.333333\n",
       "384     2.093023\n",
       "385     0.600000\n",
       "386     4.090909\n",
       "387     0.230769\n",
       "388     0.514286\n",
       "389     2.432432\n",
       "390     0.333333\n",
       "391     0.500000\n",
       "392     0.151261\n",
       "393     0.333333\n",
       "394     1.267606\n",
       "395    90.000000\n",
       "396     1.000000\n",
       "397     0.333333\n",
       "398     1.000000\n",
       "399     0.500000\n",
       "400     0.268657\n",
       "401     1.000000\n",
       "402     1.000000\n",
       "403     0.825688\n",
       "404     0.909091\n",
       "Name: Minutes Played  MinP, Length: 405, dtype: float64"
      ]
     },
     "execution_count": 7,
     "metadata": {},
     "output_type": "execute_result"
    }
   ],
   "source": [
    "#Soluzione 1.1\n",
    "arrayShotsPerGame = df[\"Shots  S\"].values * 90 / df[\"Minutes Played  MinP\"]\n",
    "arrayShotsPerGame"
   ]
  },
  {
   "cell_type": "markdown",
   "metadata": {},
   "source": [
    "### 1.2\n",
    "Si eseguano le seguenti operazioni: \n",
    "    - chi è il giocatore che ha effettuato piu' tiri a partita. E quello con meno tiri? Hint: i nomi dei giocatori si trovano nella colonna con label ``Player``.\n",
    "    - calcolare la media campionaria e la mediana del numero di tiri a partita. \n",
    "    - calcolare range, varianza campionaria, deviazione standard, primo e terzo quartile del numero di tiri a partita"
   ]
  },
  {
   "cell_type": "code",
   "execution_count": 8,
   "metadata": {},
   "outputs": [
    {
     "name": "stdout",
     "output_type": "stream",
     "text": [
      "3\n"
     ]
    }
   ],
   "source": [
    "# Hint 1 (calcolo l'indice dell'array dove si trova l'elemento con massimo valore)\n",
    "import numpy as np\n",
    "print(np.argmax(np.array([1,2,3,5,-2,4])))"
   ]
  },
  {
   "cell_type": "code",
   "execution_count": 9,
   "metadata": {},
   "outputs": [
    {
     "name": "stdout",
     "output_type": "stream",
     "text": [
      "Media: 0.020635558172055736\n",
      "Varianza: 0.9174308028041003\n",
      "Deviazione Standard: 0.9573470488810712\n",
      "Mediana: 0.03242943092567316\n",
      "25-esimo percentile -0.6301952460205424\n"
     ]
    }
   ],
   "source": [
    "# Hint 2 (comandi utili)\n",
    "\n",
    "mioArray = np.random.randn(1000)\n",
    "\n",
    "print(f\"Media: {np.mean(mioArray)}\")\n",
    "print(f\"Varianza: {np.var(mioArray,ddof=1)}\") # Dall'Help della funzione np.var riuscite a capire cosa cambia se ddof = 0?\n",
    "print(f\"Deviazione Standard: {np.std(mioArray)}\") \n",
    "print(f\"Mediana: {np.median(mioArray)}\") \n",
    "\n",
    "print(f\"25-esimo percentile {np.percentile(mioArray,25)}\") # Calcola 25-esimo percentile"
   ]
  },
  {
   "cell_type": "code",
   "execution_count": 16,
   "metadata": {
    "scrolled": true
   },
   "outputs": [
    {
     "name": "stdout",
     "output_type": "stream",
     "text": [
      "Arnor TRAUSTASON\n",
      "Ngolo KANTE\n",
      "mean: 2.0344103552940758\n",
      "median: 1.2\n",
      "range: 89.84873949579831\n",
      "var camp: 24.632078610357258\n",
      "dev std camp: 4.963071489547301\n",
      "25esimo percentile): 0.6923076923076923\n",
      "75esimo percentile): 2.278481012658228\n"
     ]
    }
   ],
   "source": [
    "#Soluzione 1.2\n",
    "maxSPG = np.argmax(arrayShotsPerGame.values)\n",
    "minSPG = np.argmin(arrayShotsPerGame.values)\n",
    "print(df[\"Player\"].values[maxSPG])\n",
    "print(df[\"Player\"].values[minSPG])\n",
    "print(f\"mean: {np.mean(arrayShotsPerGame)}\")\n",
    "print(f\"median: {np.median(arrayShotsPerGame)}\")\n",
    "print(f\"range: {np.max(arrayShotsPerGame) - np.min(arrayShotsPerGame)}\")\n",
    "print(f\"var camp: {np.var(arrayShotsPerGame,ddof=1)}\")\n",
    "print(f\"dev std camp: {np.std(arrayShotsPerGame,ddof=1)}\")\n",
    "print(f\"25esimo percentile): {np.percentile(arrayShotsPerGame,25)}\")\n",
    "print(f\"75esimo percentile): {np.percentile(arrayShotsPerGame,75)}\")"
   ]
  },
  {
   "cell_type": "markdown",
   "metadata": {},
   "source": [
    "### 1.3\n",
    "\n",
    "Plottare istogramma e boxplot delle osservazioni. Nominate opportunamente gli assi e se volete visualizzare meglio i grafici cambiate il range degli assi e/o definite i bins manualmente. Notate la presenza di outliers? Riuscite a spiegare perchè la media è piu' alta della mediana?"
   ]
  },
  {
   "cell_type": "code",
   "execution_count": 37,
   "metadata": {},
   "outputs": [
    {
     "data": {
      "text/html": [
       "        <script type=\"text/javascript\">\n",
       "        window.PlotlyConfig = {MathJaxConfig: 'local'};\n",
       "        if (window.MathJax) {MathJax.Hub.Config({SVG: {font: \"STIX-Web\"}});}\n",
       "        if (typeof require !== 'undefined') {\n",
       "        require.undef(\"plotly\");\n",
       "        requirejs.config({\n",
       "            paths: {\n",
       "                'plotly': ['https://cdn.plot.ly/plotly-latest.min']\n",
       "            }\n",
       "        });\n",
       "        require(['plotly'], function(Plotly) {\n",
       "            window._Plotly = Plotly;\n",
       "        });\n",
       "        }\n",
       "        </script>\n",
       "        "
      ]
     },
     "metadata": {},
     "output_type": "display_data"
    },
    {
     "data": {
      "application/vnd.plotly.v1+json": {
       "config": {
        "linkText": "Export to plot.ly",
        "plotlyServerURL": "https://plot.ly",
        "showLink": false
       },
       "data": [
        {
         "type": "histogram",
         "x": [
          5.4,
          4.541284403669724,
          3.132911392405063,
          3.3157894736842106,
          5.25,
          2.9536679536679538,
          4.25,
          2.3943661971830985,
          2.903225806451613,
          4.198250728862973,
          2.6325411334552102,
          3.1690140845070425,
          5,
          3.237410071942446,
          2.4725274725274726,
          2.1989528795811517,
          2.8,
          4.701492537313433,
          4.666666666666667,
          2.457983193277311,
          1.924342105263158,
          2.1666666666666665,
          3.690851735015773,
          3.3333333333333335,
          3.5526315789473686,
          2.769230769230769,
          3.09375,
          1.5348837209302326,
          3.3333333333333335,
          3.409090909090909,
          1.2968299711815563,
          2.3076923076923075,
          2.857142857142857,
          2.7027027027027026,
          2.2167487684729066,
          1.9823788546255507,
          3,
          2.5796178343949046,
          3,
          2.477064220183486,
          1.348314606741573,
          2.91497975708502,
          2.4657534246575343,
          6.371681415929204,
          1.909814323607427,
          2.1621621621621623,
          2.208588957055215,
          2.3225806451612905,
          1.3358070500927643,
          2.7169811320754715,
          3.01255230125523,
          3.0288461538461537,
          2.0454545454545454,
          2.1140939597315436,
          1.6153846153846154,
          1.75,
          2.3333333333333335,
          7.682926829268292,
          2.3333333333333335,
          1.2352941176470589,
          2.3333333333333335,
          2.342007434944238,
          2.342007434944238,
          2.3684210526315788,
          2.2594142259414225,
          2,
          3.033707865168539,
          1.2,
          1.5254237288135593,
          0.8372093023255814,
          3,
          3.4177215189873418,
          3,
          2.3684210526315788,
          1.2,
          1.758957654723127,
          1.2,
          1.0018552875695732,
          1.6314199395770392,
          4,
          2.967032967032967,
          0.9152542372881356,
          0.8896210873146623,
          1,
          1.125,
          3.8793103448275863,
          1.2534818941504178,
          1.6666666666666667,
          2.5,
          3.6885245901639343,
          1.25,
          1.7045454545454546,
          1.991150442477876,
          1.836734693877551,
          2.027027027027027,
          1.2362637362637363,
          2.132701421800948,
          1.5845070422535212,
          1.3636363636363635,
          2.112676056338028,
          0.8333333333333334,
          1.4240506329113924,
          1.1538461538461537,
          1.25,
          1.6666666666666667,
          2.142857142857143,
          1.814516129032258,
          2.3195876288659796,
          3.3088235294117645,
          1.0368663594470047,
          0.6923076923076923,
          1.6666666666666667,
          4.090909090909091,
          7.659574468085107,
          4.675324675324675,
          5.217391304347826,
          1.7391304347826086,
          2.1818181818181817,
          1.2857142857142858,
          1.0909090909090908,
          15.652173913043478,
          1.4285714285714286,
          1.4457831325301205,
          2.6865671641791047,
          5.142857142857143,
          1.3333333333333333,
          0.6666666666666666,
          18.94736842105263,
          3.2142857142857144,
          2.769230769230769,
          0.9574468085106383,
          1,
          1.6363636363636365,
          1.722488038277512,
          1.9672131147540983,
          1.3333333333333333,
          0.7468879668049793,
          1.0682492581602374,
          0.5714285714285714,
          1.6981132075471699,
          4.186046511627907,
          0.7860262008733624,
          1.3333333333333333,
          1.487603305785124,
          1.5517241379310345,
          1,
          1.5254237288135593,
          0.9230769230769231,
          1.3333333333333333,
          0.9809264305177112,
          1,
          5.625,
          2.125984251968504,
          0.9,
          1.5,
          2.0454545454545454,
          1.062992125984252,
          1.0424710424710424,
          0.8256880733944955,
          0.75,
          1.9148936170212767,
          1,
          1.2,
          2.347826086956522,
          2.288135593220339,
          5.4,
          0.6,
          1.25,
          1.139240506329114,
          1.1637931034482758,
          1.5,
          1.026615969581749,
          1.569767441860465,
          0.42857142857142855,
          1.7647058823529411,
          0.46551724137931033,
          1.2272727272727273,
          2.3684210526315788,
          3.9705882352941178,
          2.3684210526315788,
          1.5168539325842696,
          0.6490384615384616,
          1.0975609756097562,
          1,
          1.5,
          1,
          1,
          0.6716417910447762,
          3.292682926829268,
          1,
          0.7397260273972602,
          2.1951219512195124,
          0.6,
          1.542857142857143,
          1.1111111111111112,
          0.9854014598540146,
          1.3043478260869565,
          2.7551020408163267,
          1.7419354838709677,
          1.7763157894736843,
          0.7714285714285715,
          1,
          1,
          1.3043478260869565,
          1.1065573770491803,
          1.0305343511450382,
          0.6413301662707839,
          1.0424710424710424,
          1.8243243243243243,
          2.783505154639175,
          1.173913043478261,
          1,
          1.3366336633663367,
          3.0681818181818183,
          1,
          0.75,
          1.6363636363636365,
          1.6265060240963856,
          0.3333333333333333,
          0.6666666666666666,
          1,
          1.7475728155339805,
          0.35294117647058826,
          30,
          0.6666666666666666,
          0.6666666666666666,
          1.5,
          0.5,
          0.6666666666666666,
          0.38961038961038963,
          0.7114624505928854,
          0.46153846153846156,
          0.8,
          0.6691449814126395,
          0.9836065573770492,
          0.821917808219178,
          2.0930232558139537,
          0.3333333333333333,
          0.7086614173228346,
          1.0465116279069768,
          2.857142857142857,
          0.6766917293233082,
          2.1951219512195124,
          3,
          0.8866995073891626,
          0.6666666666666666,
          0.989010989010989,
          1.3740458015267176,
          1.0909090909090908,
          0.9278350515463918,
          0.5921052631578947,
          0.6666666666666666,
          0.6741573033707865,
          3.3333333333333335,
          1.3333333333333333,
          0.8144796380090498,
          0.5013927576601671,
          0.8035714285714286,
          2,
          0.743801652892562,
          0.5,
          16.363636363636363,
          0.8372093023255814,
          0.5,
          0.9574468085106383,
          1,
          1,
          1.2328767123287672,
          7.2,
          1.1538461538461537,
          0.6666666666666666,
          0.6666666666666666,
          0.7377049180327869,
          0.6666666666666666,
          1.978021978021978,
          0.5,
          1.1688311688311688,
          0.8955223880597015,
          1.9148936170212767,
          0.6766917293233082,
          0.46153846153846156,
          2.278481012658228,
          0.7563025210084033,
          0.6666666666666666,
          0.782608695652174,
          1.1464968152866242,
          0.6666666666666666,
          2.0224719101123596,
          0.5,
          2.278481012658228,
          6.206896551724138,
          2,
          0.25,
          4.285714285714286,
          0.5294117647058824,
          1,
          0.3333333333333333,
          0.3333333333333333,
          1,
          0.5,
          0.3333333333333333,
          1.139240506329114,
          0.6338028169014085,
          0.1906779661016949,
          0.410958904109589,
          1,
          2.903225806451613,
          3.6,
          1.5254237288135593,
          0.5521472392638037,
          0.5421686746987951,
          0.3333333333333333,
          0.45918367346938777,
          0.30716723549488056,
          2.4324324324324325,
          0.5625,
          5,
          1.125,
          0.4,
          6,
          1.2162162162162162,
          0.7894736842105263,
          0.3515625,
          0.6521739130434783,
          0.5521472392638037,
          2.4324324324324325,
          0.2830188679245283,
          0.28938906752411575,
          0.5202312138728323,
          1,
          0.3333333333333333,
          0.42857142857142855,
          1.2,
          0.3383458646616541,
          1.2328767123287672,
          0.5,
          0.6164383561643836,
          0.9,
          0.3673469387755102,
          1,
          0.4433497536945813,
          0.5921052631578947,
          0.6164383561643836,
          1.3432835820895523,
          0.9278350515463918,
          0.3225806451612903,
          0.2,
          0.6976744186046512,
          0.5,
          0.3333333333333333,
          0.2556818181818182,
          0.5,
          0.7692307692307693,
          2.142857142857143,
          0.23076923076923078,
          0.3930131004366812,
          0.23316062176165803,
          0.46153846153846156,
          0.5263157894736842,
          1.3636363636363635,
          3,
          0.989010989010989,
          0.8571428571428571,
          1.1111111111111112,
          0.3448275862068966,
          0.8823529411764706,
          0.3333333333333333,
          1.6666666666666667,
          0.5,
          0.3333333333333333,
          1.2328767123287672,
          0.3333333333333333,
          3,
          0.29900332225913623,
          0.34615384615384615,
          1.0843373493975903,
          0.29605263157894735,
          0.5882352941176471,
          0.9375,
          6,
          0.25,
          0.782608695652174,
          0.3333333333333333,
          0.3333333333333333,
          2.0930232558139537,
          0.6,
          4.090909090909091,
          0.23076923076923078,
          0.5142857142857142,
          2.4324324324324325,
          0.3333333333333333,
          0.5,
          0.15126050420168066,
          0.3333333333333333,
          1.267605633802817,
          90,
          1,
          0.3333333333333333,
          1,
          0.5,
          0.26865671641791045,
          1,
          1,
          0.8256880733944955,
          0.9090909090909091
         ],
         "xbins": {
          "end": 20,
          "size": 0.1,
          "start": 0
         }
        }
       ],
       "layout": {
        "template": {
         "data": {
          "bar": [
           {
            "error_x": {
             "color": "#2a3f5f"
            },
            "error_y": {
             "color": "#2a3f5f"
            },
            "marker": {
             "line": {
              "color": "#E5ECF6",
              "width": 0.5
             }
            },
            "type": "bar"
           }
          ],
          "barpolar": [
           {
            "marker": {
             "line": {
              "color": "#E5ECF6",
              "width": 0.5
             }
            },
            "type": "barpolar"
           }
          ],
          "carpet": [
           {
            "aaxis": {
             "endlinecolor": "#2a3f5f",
             "gridcolor": "white",
             "linecolor": "white",
             "minorgridcolor": "white",
             "startlinecolor": "#2a3f5f"
            },
            "baxis": {
             "endlinecolor": "#2a3f5f",
             "gridcolor": "white",
             "linecolor": "white",
             "minorgridcolor": "white",
             "startlinecolor": "#2a3f5f"
            },
            "type": "carpet"
           }
          ],
          "choropleth": [
           {
            "colorbar": {
             "outlinewidth": 0,
             "ticks": ""
            },
            "type": "choropleth"
           }
          ],
          "contour": [
           {
            "colorbar": {
             "outlinewidth": 0,
             "ticks": ""
            },
            "colorscale": [
             [
              0,
              "#0d0887"
             ],
             [
              0.1111111111111111,
              "#46039f"
             ],
             [
              0.2222222222222222,
              "#7201a8"
             ],
             [
              0.3333333333333333,
              "#9c179e"
             ],
             [
              0.4444444444444444,
              "#bd3786"
             ],
             [
              0.5555555555555556,
              "#d8576b"
             ],
             [
              0.6666666666666666,
              "#ed7953"
             ],
             [
              0.7777777777777778,
              "#fb9f3a"
             ],
             [
              0.8888888888888888,
              "#fdca26"
             ],
             [
              1,
              "#f0f921"
             ]
            ],
            "type": "contour"
           }
          ],
          "contourcarpet": [
           {
            "colorbar": {
             "outlinewidth": 0,
             "ticks": ""
            },
            "type": "contourcarpet"
           }
          ],
          "heatmap": [
           {
            "colorbar": {
             "outlinewidth": 0,
             "ticks": ""
            },
            "colorscale": [
             [
              0,
              "#0d0887"
             ],
             [
              0.1111111111111111,
              "#46039f"
             ],
             [
              0.2222222222222222,
              "#7201a8"
             ],
             [
              0.3333333333333333,
              "#9c179e"
             ],
             [
              0.4444444444444444,
              "#bd3786"
             ],
             [
              0.5555555555555556,
              "#d8576b"
             ],
             [
              0.6666666666666666,
              "#ed7953"
             ],
             [
              0.7777777777777778,
              "#fb9f3a"
             ],
             [
              0.8888888888888888,
              "#fdca26"
             ],
             [
              1,
              "#f0f921"
             ]
            ],
            "type": "heatmap"
           }
          ],
          "heatmapgl": [
           {
            "colorbar": {
             "outlinewidth": 0,
             "ticks": ""
            },
            "colorscale": [
             [
              0,
              "#0d0887"
             ],
             [
              0.1111111111111111,
              "#46039f"
             ],
             [
              0.2222222222222222,
              "#7201a8"
             ],
             [
              0.3333333333333333,
              "#9c179e"
             ],
             [
              0.4444444444444444,
              "#bd3786"
             ],
             [
              0.5555555555555556,
              "#d8576b"
             ],
             [
              0.6666666666666666,
              "#ed7953"
             ],
             [
              0.7777777777777778,
              "#fb9f3a"
             ],
             [
              0.8888888888888888,
              "#fdca26"
             ],
             [
              1,
              "#f0f921"
             ]
            ],
            "type": "heatmapgl"
           }
          ],
          "histogram": [
           {
            "marker": {
             "colorbar": {
              "outlinewidth": 0,
              "ticks": ""
             }
            },
            "type": "histogram"
           }
          ],
          "histogram2d": [
           {
            "colorbar": {
             "outlinewidth": 0,
             "ticks": ""
            },
            "colorscale": [
             [
              0,
              "#0d0887"
             ],
             [
              0.1111111111111111,
              "#46039f"
             ],
             [
              0.2222222222222222,
              "#7201a8"
             ],
             [
              0.3333333333333333,
              "#9c179e"
             ],
             [
              0.4444444444444444,
              "#bd3786"
             ],
             [
              0.5555555555555556,
              "#d8576b"
             ],
             [
              0.6666666666666666,
              "#ed7953"
             ],
             [
              0.7777777777777778,
              "#fb9f3a"
             ],
             [
              0.8888888888888888,
              "#fdca26"
             ],
             [
              1,
              "#f0f921"
             ]
            ],
            "type": "histogram2d"
           }
          ],
          "histogram2dcontour": [
           {
            "colorbar": {
             "outlinewidth": 0,
             "ticks": ""
            },
            "colorscale": [
             [
              0,
              "#0d0887"
             ],
             [
              0.1111111111111111,
              "#46039f"
             ],
             [
              0.2222222222222222,
              "#7201a8"
             ],
             [
              0.3333333333333333,
              "#9c179e"
             ],
             [
              0.4444444444444444,
              "#bd3786"
             ],
             [
              0.5555555555555556,
              "#d8576b"
             ],
             [
              0.6666666666666666,
              "#ed7953"
             ],
             [
              0.7777777777777778,
              "#fb9f3a"
             ],
             [
              0.8888888888888888,
              "#fdca26"
             ],
             [
              1,
              "#f0f921"
             ]
            ],
            "type": "histogram2dcontour"
           }
          ],
          "mesh3d": [
           {
            "colorbar": {
             "outlinewidth": 0,
             "ticks": ""
            },
            "type": "mesh3d"
           }
          ],
          "parcoords": [
           {
            "line": {
             "colorbar": {
              "outlinewidth": 0,
              "ticks": ""
             }
            },
            "type": "parcoords"
           }
          ],
          "scatter": [
           {
            "marker": {
             "colorbar": {
              "outlinewidth": 0,
              "ticks": ""
             }
            },
            "type": "scatter"
           }
          ],
          "scatter3d": [
           {
            "line": {
             "colorbar": {
              "outlinewidth": 0,
              "ticks": ""
             }
            },
            "marker": {
             "colorbar": {
              "outlinewidth": 0,
              "ticks": ""
             }
            },
            "type": "scatter3d"
           }
          ],
          "scattercarpet": [
           {
            "marker": {
             "colorbar": {
              "outlinewidth": 0,
              "ticks": ""
             }
            },
            "type": "scattercarpet"
           }
          ],
          "scattergeo": [
           {
            "marker": {
             "colorbar": {
              "outlinewidth": 0,
              "ticks": ""
             }
            },
            "type": "scattergeo"
           }
          ],
          "scattergl": [
           {
            "marker": {
             "colorbar": {
              "outlinewidth": 0,
              "ticks": ""
             }
            },
            "type": "scattergl"
           }
          ],
          "scattermapbox": [
           {
            "marker": {
             "colorbar": {
              "outlinewidth": 0,
              "ticks": ""
             }
            },
            "type": "scattermapbox"
           }
          ],
          "scatterpolar": [
           {
            "marker": {
             "colorbar": {
              "outlinewidth": 0,
              "ticks": ""
             }
            },
            "type": "scatterpolar"
           }
          ],
          "scatterpolargl": [
           {
            "marker": {
             "colorbar": {
              "outlinewidth": 0,
              "ticks": ""
             }
            },
            "type": "scatterpolargl"
           }
          ],
          "scatterternary": [
           {
            "marker": {
             "colorbar": {
              "outlinewidth": 0,
              "ticks": ""
             }
            },
            "type": "scatterternary"
           }
          ],
          "surface": [
           {
            "colorbar": {
             "outlinewidth": 0,
             "ticks": ""
            },
            "colorscale": [
             [
              0,
              "#0d0887"
             ],
             [
              0.1111111111111111,
              "#46039f"
             ],
             [
              0.2222222222222222,
              "#7201a8"
             ],
             [
              0.3333333333333333,
              "#9c179e"
             ],
             [
              0.4444444444444444,
              "#bd3786"
             ],
             [
              0.5555555555555556,
              "#d8576b"
             ],
             [
              0.6666666666666666,
              "#ed7953"
             ],
             [
              0.7777777777777778,
              "#fb9f3a"
             ],
             [
              0.8888888888888888,
              "#fdca26"
             ],
             [
              1,
              "#f0f921"
             ]
            ],
            "type": "surface"
           }
          ],
          "table": [
           {
            "cells": {
             "fill": {
              "color": "#EBF0F8"
             },
             "line": {
              "color": "white"
             }
            },
            "header": {
             "fill": {
              "color": "#C8D4E3"
             },
             "line": {
              "color": "white"
             }
            },
            "type": "table"
           }
          ]
         },
         "layout": {
          "annotationdefaults": {
           "arrowcolor": "#2a3f5f",
           "arrowhead": 0,
           "arrowwidth": 1
          },
          "colorscale": {
           "diverging": [
            [
             0,
             "#8e0152"
            ],
            [
             0.1,
             "#c51b7d"
            ],
            [
             0.2,
             "#de77ae"
            ],
            [
             0.3,
             "#f1b6da"
            ],
            [
             0.4,
             "#fde0ef"
            ],
            [
             0.5,
             "#f7f7f7"
            ],
            [
             0.6,
             "#e6f5d0"
            ],
            [
             0.7,
             "#b8e186"
            ],
            [
             0.8,
             "#7fbc41"
            ],
            [
             0.9,
             "#4d9221"
            ],
            [
             1,
             "#276419"
            ]
           ],
           "sequential": [
            [
             0,
             "#0d0887"
            ],
            [
             0.1111111111111111,
             "#46039f"
            ],
            [
             0.2222222222222222,
             "#7201a8"
            ],
            [
             0.3333333333333333,
             "#9c179e"
            ],
            [
             0.4444444444444444,
             "#bd3786"
            ],
            [
             0.5555555555555556,
             "#d8576b"
            ],
            [
             0.6666666666666666,
             "#ed7953"
            ],
            [
             0.7777777777777778,
             "#fb9f3a"
            ],
            [
             0.8888888888888888,
             "#fdca26"
            ],
            [
             1,
             "#f0f921"
            ]
           ],
           "sequentialminus": [
            [
             0,
             "#0d0887"
            ],
            [
             0.1111111111111111,
             "#46039f"
            ],
            [
             0.2222222222222222,
             "#7201a8"
            ],
            [
             0.3333333333333333,
             "#9c179e"
            ],
            [
             0.4444444444444444,
             "#bd3786"
            ],
            [
             0.5555555555555556,
             "#d8576b"
            ],
            [
             0.6666666666666666,
             "#ed7953"
            ],
            [
             0.7777777777777778,
             "#fb9f3a"
            ],
            [
             0.8888888888888888,
             "#fdca26"
            ],
            [
             1,
             "#f0f921"
            ]
           ]
          },
          "colorway": [
           "#636efa",
           "#EF553B",
           "#00cc96",
           "#ab63fa",
           "#FFA15A",
           "#19d3f3",
           "#FF6692",
           "#B6E880",
           "#FF97FF",
           "#FECB52"
          ],
          "font": {
           "color": "#2a3f5f"
          },
          "geo": {
           "bgcolor": "white",
           "lakecolor": "white",
           "landcolor": "#E5ECF6",
           "showlakes": true,
           "showland": true,
           "subunitcolor": "white"
          },
          "hoverlabel": {
           "align": "left"
          },
          "hovermode": "closest",
          "mapbox": {
           "style": "light"
          },
          "paper_bgcolor": "white",
          "plot_bgcolor": "#E5ECF6",
          "polar": {
           "angularaxis": {
            "gridcolor": "white",
            "linecolor": "white",
            "ticks": ""
           },
           "bgcolor": "#E5ECF6",
           "radialaxis": {
            "gridcolor": "white",
            "linecolor": "white",
            "ticks": ""
           }
          },
          "scene": {
           "xaxis": {
            "backgroundcolor": "#E5ECF6",
            "gridcolor": "white",
            "gridwidth": 2,
            "linecolor": "white",
            "showbackground": true,
            "ticks": "",
            "zerolinecolor": "white"
           },
           "yaxis": {
            "backgroundcolor": "#E5ECF6",
            "gridcolor": "white",
            "gridwidth": 2,
            "linecolor": "white",
            "showbackground": true,
            "ticks": "",
            "zerolinecolor": "white"
           },
           "zaxis": {
            "backgroundcolor": "#E5ECF6",
            "gridcolor": "white",
            "gridwidth": 2,
            "linecolor": "white",
            "showbackground": true,
            "ticks": "",
            "zerolinecolor": "white"
           }
          },
          "shapedefaults": {
           "line": {
            "color": "#2a3f5f"
           }
          },
          "ternary": {
           "aaxis": {
            "gridcolor": "white",
            "linecolor": "white",
            "ticks": ""
           },
           "baxis": {
            "gridcolor": "white",
            "linecolor": "white",
            "ticks": ""
           },
           "bgcolor": "#E5ECF6",
           "caxis": {
            "gridcolor": "white",
            "linecolor": "white",
            "ticks": ""
           }
          },
          "title": {
           "x": 0.05
          },
          "xaxis": {
           "automargin": true,
           "gridcolor": "white",
           "linecolor": "white",
           "ticks": "",
           "zerolinecolor": "white",
           "zerolinewidth": 2
          },
          "yaxis": {
           "automargin": true,
           "gridcolor": "white",
           "linecolor": "white",
           "ticks": "",
           "zerolinecolor": "white",
           "zerolinewidth": 2
          }
         }
        }
       }
      },
      "text/html": [
       "<div>\n",
       "        \n",
       "        \n",
       "            <div id=\"6c9ca3c3-da93-49e9-a50e-a067b07b5066\" class=\"plotly-graph-div\" style=\"height:525px; width:100%;\"></div>\n",
       "            <script type=\"text/javascript\">\n",
       "                require([\"plotly\"], function(Plotly) {\n",
       "                    window.PLOTLYENV=window.PLOTLYENV || {};\n",
       "                    \n",
       "                if (document.getElementById(\"6c9ca3c3-da93-49e9-a50e-a067b07b5066\")) {\n",
       "                    Plotly.newPlot(\n",
       "                        '6c9ca3c3-da93-49e9-a50e-a067b07b5066',\n",
       "                        [{\"type\": \"histogram\", \"x\": [5.4, 4.541284403669724, 3.132911392405063, 3.3157894736842106, 5.25, 2.9536679536679538, 4.25, 2.3943661971830985, 2.903225806451613, 4.198250728862973, 2.6325411334552102, 3.1690140845070425, 5.0, 3.237410071942446, 2.4725274725274726, 2.1989528795811517, 2.8, 4.701492537313433, 4.666666666666667, 2.457983193277311, 1.924342105263158, 2.1666666666666665, 3.690851735015773, 3.3333333333333335, 3.5526315789473686, 2.769230769230769, 3.09375, 1.5348837209302326, 3.3333333333333335, 3.409090909090909, 1.2968299711815563, 2.3076923076923075, 2.857142857142857, 2.7027027027027026, 2.2167487684729066, 1.9823788546255507, 3.0, 2.5796178343949046, 3.0, 2.477064220183486, 1.348314606741573, 2.91497975708502, 2.4657534246575343, 6.371681415929204, 1.909814323607427, 2.1621621621621623, 2.208588957055215, 2.3225806451612905, 1.3358070500927643, 2.7169811320754715, 3.01255230125523, 3.0288461538461537, 2.0454545454545454, 2.1140939597315436, 1.6153846153846154, 1.75, 2.3333333333333335, 7.682926829268292, 2.3333333333333335, 1.2352941176470589, 2.3333333333333335, 2.342007434944238, 2.342007434944238, 2.3684210526315788, 2.2594142259414225, 2.0, 3.033707865168539, 1.2, 1.5254237288135593, 0.8372093023255814, 3.0, 3.4177215189873418, 3.0, 2.3684210526315788, 1.2, 1.758957654723127, 1.2, 1.0018552875695732, 1.6314199395770392, 4.0, 2.967032967032967, 0.9152542372881356, 0.8896210873146623, 1.0, 1.125, 3.8793103448275863, 1.2534818941504178, 1.6666666666666667, 2.5, 3.6885245901639343, 1.25, 1.7045454545454546, 1.991150442477876, 1.836734693877551, 2.027027027027027, 1.2362637362637363, 2.132701421800948, 1.5845070422535212, 1.3636363636363635, 2.112676056338028, 0.8333333333333334, 1.4240506329113924, 1.1538461538461537, 1.25, 1.6666666666666667, 2.142857142857143, 1.814516129032258, 2.3195876288659796, 3.3088235294117645, 1.0368663594470047, 0.6923076923076923, 1.6666666666666667, 4.090909090909091, 7.659574468085107, 4.675324675324675, 5.217391304347826, 1.7391304347826086, 2.1818181818181817, 1.2857142857142858, 1.0909090909090908, 15.652173913043478, 1.4285714285714286, 1.4457831325301205, 2.6865671641791047, 5.142857142857143, 1.3333333333333333, 0.6666666666666666, 18.94736842105263, 3.2142857142857144, 2.769230769230769, 0.9574468085106383, 1.0, 1.6363636363636365, 1.722488038277512, 1.9672131147540983, 1.3333333333333333, 0.7468879668049793, 1.0682492581602374, 0.5714285714285714, 1.6981132075471699, 4.186046511627907, 0.7860262008733624, 1.3333333333333333, 1.487603305785124, 1.5517241379310345, 1.0, 1.5254237288135593, 0.9230769230769231, 1.3333333333333333, 0.9809264305177112, 1.0, 5.625, 2.125984251968504, 0.9, 1.5, 2.0454545454545454, 1.062992125984252, 1.0424710424710424, 0.8256880733944955, 0.75, 1.9148936170212767, 1.0, 1.2, 2.347826086956522, 2.288135593220339, 5.4, 0.6, 1.25, 1.139240506329114, 1.1637931034482758, 1.5, 1.026615969581749, 1.569767441860465, 0.42857142857142855, 1.7647058823529411, 0.46551724137931033, 1.2272727272727273, 2.3684210526315788, 3.9705882352941178, 2.3684210526315788, 1.5168539325842696, 0.6490384615384616, 1.0975609756097562, 1.0, 1.5, 1.0, 1.0, 0.6716417910447762, 3.292682926829268, 1.0, 0.7397260273972602, 2.1951219512195124, 0.6, 1.542857142857143, 1.1111111111111112, 0.9854014598540146, 1.3043478260869565, 2.7551020408163267, 1.7419354838709677, 1.7763157894736843, 0.7714285714285715, 1.0, 1.0, 1.3043478260869565, 1.1065573770491803, 1.0305343511450382, 0.6413301662707839, 1.0424710424710424, 1.8243243243243243, 2.783505154639175, 1.173913043478261, 1.0, 1.3366336633663367, 3.0681818181818183, 1.0, 0.75, 1.6363636363636365, 1.6265060240963856, 0.3333333333333333, 0.6666666666666666, 1.0, 1.7475728155339805, 0.35294117647058826, 30.0, 0.6666666666666666, 0.6666666666666666, 1.5, 0.5, 0.6666666666666666, 0.38961038961038963, 0.7114624505928854, 0.46153846153846156, 0.8, 0.6691449814126395, 0.9836065573770492, 0.821917808219178, 2.0930232558139537, 0.3333333333333333, 0.7086614173228346, 1.0465116279069768, 2.857142857142857, 0.6766917293233082, 2.1951219512195124, 3.0, 0.8866995073891626, 0.6666666666666666, 0.989010989010989, 1.3740458015267176, 1.0909090909090908, 0.9278350515463918, 0.5921052631578947, 0.6666666666666666, 0.6741573033707865, 3.3333333333333335, 1.3333333333333333, 0.8144796380090498, 0.5013927576601671, 0.8035714285714286, 2.0, 0.743801652892562, 0.5, 16.363636363636363, 0.8372093023255814, 0.5, 0.9574468085106383, 1.0, 1.0, 1.2328767123287672, 7.2, 1.1538461538461537, 0.6666666666666666, 0.6666666666666666, 0.7377049180327869, 0.6666666666666666, 1.978021978021978, 0.5, 1.1688311688311688, 0.8955223880597015, 1.9148936170212767, 0.6766917293233082, 0.46153846153846156, 2.278481012658228, 0.7563025210084033, 0.6666666666666666, 0.782608695652174, 1.1464968152866242, 0.6666666666666666, 2.0224719101123596, 0.5, 2.278481012658228, 6.206896551724138, 2.0, 0.25, 4.285714285714286, 0.5294117647058824, 1.0, 0.3333333333333333, 0.3333333333333333, 1.0, 0.5, 0.3333333333333333, 1.139240506329114, 0.6338028169014085, 0.1906779661016949, 0.410958904109589, 1.0, 2.903225806451613, 3.6, 1.5254237288135593, 0.5521472392638037, 0.5421686746987951, 0.3333333333333333, 0.45918367346938777, 0.30716723549488056, 2.4324324324324325, 0.5625, 5.0, 1.125, 0.4, 6.0, 1.2162162162162162, 0.7894736842105263, 0.3515625, 0.6521739130434783, 0.5521472392638037, 2.4324324324324325, 0.2830188679245283, 0.28938906752411575, 0.5202312138728323, 1.0, 0.3333333333333333, 0.42857142857142855, 1.2, 0.3383458646616541, 1.2328767123287672, 0.5, 0.6164383561643836, 0.9, 0.3673469387755102, 1.0, 0.4433497536945813, 0.5921052631578947, 0.6164383561643836, 1.3432835820895523, 0.9278350515463918, 0.3225806451612903, 0.2, 0.6976744186046512, 0.5, 0.3333333333333333, 0.2556818181818182, 0.5, 0.7692307692307693, 2.142857142857143, 0.23076923076923078, 0.3930131004366812, 0.23316062176165803, 0.46153846153846156, 0.5263157894736842, 1.3636363636363635, 3.0, 0.989010989010989, 0.8571428571428571, 1.1111111111111112, 0.3448275862068966, 0.8823529411764706, 0.3333333333333333, 1.6666666666666667, 0.5, 0.3333333333333333, 1.2328767123287672, 0.3333333333333333, 3.0, 0.29900332225913623, 0.34615384615384615, 1.0843373493975903, 0.29605263157894735, 0.5882352941176471, 0.9375, 6.0, 0.25, 0.782608695652174, 0.3333333333333333, 0.3333333333333333, 2.0930232558139537, 0.6, 4.090909090909091, 0.23076923076923078, 0.5142857142857142, 2.4324324324324325, 0.3333333333333333, 0.5, 0.15126050420168066, 0.3333333333333333, 1.267605633802817, 90.0, 1.0, 0.3333333333333333, 1.0, 0.5, 0.26865671641791045, 1.0, 1.0, 0.8256880733944955, 0.9090909090909091], \"xbins\": {\"end\": 20, \"size\": 0.1, \"start\": 0}}],\n",
       "                        {\"template\": {\"data\": {\"bar\": [{\"error_x\": {\"color\": \"#2a3f5f\"}, \"error_y\": {\"color\": \"#2a3f5f\"}, \"marker\": {\"line\": {\"color\": \"#E5ECF6\", \"width\": 0.5}}, \"type\": \"bar\"}], \"barpolar\": [{\"marker\": {\"line\": {\"color\": \"#E5ECF6\", \"width\": 0.5}}, \"type\": \"barpolar\"}], \"carpet\": [{\"aaxis\": {\"endlinecolor\": \"#2a3f5f\", \"gridcolor\": \"white\", \"linecolor\": \"white\", \"minorgridcolor\": \"white\", \"startlinecolor\": \"#2a3f5f\"}, \"baxis\": {\"endlinecolor\": \"#2a3f5f\", \"gridcolor\": \"white\", \"linecolor\": \"white\", \"minorgridcolor\": \"white\", \"startlinecolor\": \"#2a3f5f\"}, \"type\": \"carpet\"}], \"choropleth\": [{\"colorbar\": {\"outlinewidth\": 0, \"ticks\": \"\"}, \"type\": \"choropleth\"}], \"contour\": [{\"colorbar\": {\"outlinewidth\": 0, \"ticks\": \"\"}, \"colorscale\": [[0.0, \"#0d0887\"], [0.1111111111111111, \"#46039f\"], [0.2222222222222222, \"#7201a8\"], [0.3333333333333333, \"#9c179e\"], [0.4444444444444444, \"#bd3786\"], [0.5555555555555556, \"#d8576b\"], [0.6666666666666666, \"#ed7953\"], [0.7777777777777778, \"#fb9f3a\"], [0.8888888888888888, \"#fdca26\"], [1.0, \"#f0f921\"]], \"type\": \"contour\"}], \"contourcarpet\": [{\"colorbar\": {\"outlinewidth\": 0, \"ticks\": \"\"}, \"type\": \"contourcarpet\"}], \"heatmap\": [{\"colorbar\": {\"outlinewidth\": 0, \"ticks\": \"\"}, \"colorscale\": [[0.0, \"#0d0887\"], [0.1111111111111111, \"#46039f\"], [0.2222222222222222, \"#7201a8\"], [0.3333333333333333, \"#9c179e\"], [0.4444444444444444, \"#bd3786\"], [0.5555555555555556, \"#d8576b\"], [0.6666666666666666, \"#ed7953\"], [0.7777777777777778, \"#fb9f3a\"], [0.8888888888888888, \"#fdca26\"], [1.0, \"#f0f921\"]], \"type\": \"heatmap\"}], \"heatmapgl\": [{\"colorbar\": {\"outlinewidth\": 0, \"ticks\": \"\"}, \"colorscale\": [[0.0, \"#0d0887\"], [0.1111111111111111, \"#46039f\"], [0.2222222222222222, \"#7201a8\"], [0.3333333333333333, \"#9c179e\"], [0.4444444444444444, \"#bd3786\"], [0.5555555555555556, \"#d8576b\"], [0.6666666666666666, \"#ed7953\"], [0.7777777777777778, \"#fb9f3a\"], [0.8888888888888888, \"#fdca26\"], [1.0, \"#f0f921\"]], \"type\": \"heatmapgl\"}], \"histogram\": [{\"marker\": {\"colorbar\": {\"outlinewidth\": 0, \"ticks\": \"\"}}, \"type\": \"histogram\"}], \"histogram2d\": [{\"colorbar\": {\"outlinewidth\": 0, \"ticks\": \"\"}, \"colorscale\": [[0.0, \"#0d0887\"], [0.1111111111111111, \"#46039f\"], [0.2222222222222222, \"#7201a8\"], [0.3333333333333333, \"#9c179e\"], [0.4444444444444444, \"#bd3786\"], [0.5555555555555556, \"#d8576b\"], [0.6666666666666666, \"#ed7953\"], [0.7777777777777778, \"#fb9f3a\"], [0.8888888888888888, \"#fdca26\"], [1.0, \"#f0f921\"]], \"type\": \"histogram2d\"}], \"histogram2dcontour\": [{\"colorbar\": {\"outlinewidth\": 0, \"ticks\": \"\"}, \"colorscale\": [[0.0, \"#0d0887\"], [0.1111111111111111, \"#46039f\"], [0.2222222222222222, \"#7201a8\"], [0.3333333333333333, \"#9c179e\"], [0.4444444444444444, \"#bd3786\"], [0.5555555555555556, \"#d8576b\"], [0.6666666666666666, \"#ed7953\"], [0.7777777777777778, \"#fb9f3a\"], [0.8888888888888888, \"#fdca26\"], [1.0, \"#f0f921\"]], \"type\": \"histogram2dcontour\"}], \"mesh3d\": [{\"colorbar\": {\"outlinewidth\": 0, \"ticks\": \"\"}, \"type\": \"mesh3d\"}], \"parcoords\": [{\"line\": {\"colorbar\": {\"outlinewidth\": 0, \"ticks\": \"\"}}, \"type\": \"parcoords\"}], \"scatter\": [{\"marker\": {\"colorbar\": {\"outlinewidth\": 0, \"ticks\": \"\"}}, \"type\": \"scatter\"}], \"scatter3d\": [{\"line\": {\"colorbar\": {\"outlinewidth\": 0, \"ticks\": \"\"}}, \"marker\": {\"colorbar\": {\"outlinewidth\": 0, \"ticks\": \"\"}}, \"type\": \"scatter3d\"}], \"scattercarpet\": [{\"marker\": {\"colorbar\": {\"outlinewidth\": 0, \"ticks\": \"\"}}, \"type\": \"scattercarpet\"}], \"scattergeo\": [{\"marker\": {\"colorbar\": {\"outlinewidth\": 0, \"ticks\": \"\"}}, \"type\": \"scattergeo\"}], \"scattergl\": [{\"marker\": {\"colorbar\": {\"outlinewidth\": 0, \"ticks\": \"\"}}, \"type\": \"scattergl\"}], \"scattermapbox\": [{\"marker\": {\"colorbar\": {\"outlinewidth\": 0, \"ticks\": \"\"}}, \"type\": \"scattermapbox\"}], \"scatterpolar\": [{\"marker\": {\"colorbar\": {\"outlinewidth\": 0, \"ticks\": \"\"}}, \"type\": \"scatterpolar\"}], \"scatterpolargl\": [{\"marker\": {\"colorbar\": {\"outlinewidth\": 0, \"ticks\": \"\"}}, \"type\": \"scatterpolargl\"}], \"scatterternary\": [{\"marker\": {\"colorbar\": {\"outlinewidth\": 0, \"ticks\": \"\"}}, \"type\": \"scatterternary\"}], \"surface\": [{\"colorbar\": {\"outlinewidth\": 0, \"ticks\": \"\"}, \"colorscale\": [[0.0, \"#0d0887\"], [0.1111111111111111, \"#46039f\"], [0.2222222222222222, \"#7201a8\"], [0.3333333333333333, \"#9c179e\"], [0.4444444444444444, \"#bd3786\"], [0.5555555555555556, \"#d8576b\"], [0.6666666666666666, \"#ed7953\"], [0.7777777777777778, \"#fb9f3a\"], [0.8888888888888888, \"#fdca26\"], [1.0, \"#f0f921\"]], \"type\": \"surface\"}], \"table\": [{\"cells\": {\"fill\": {\"color\": \"#EBF0F8\"}, \"line\": {\"color\": \"white\"}}, \"header\": {\"fill\": {\"color\": \"#C8D4E3\"}, \"line\": {\"color\": \"white\"}}, \"type\": \"table\"}]}, \"layout\": {\"annotationdefaults\": {\"arrowcolor\": \"#2a3f5f\", \"arrowhead\": 0, \"arrowwidth\": 1}, \"colorscale\": {\"diverging\": [[0, \"#8e0152\"], [0.1, \"#c51b7d\"], [0.2, \"#de77ae\"], [0.3, \"#f1b6da\"], [0.4, \"#fde0ef\"], [0.5, \"#f7f7f7\"], [0.6, \"#e6f5d0\"], [0.7, \"#b8e186\"], [0.8, \"#7fbc41\"], [0.9, \"#4d9221\"], [1, \"#276419\"]], \"sequential\": [[0.0, \"#0d0887\"], [0.1111111111111111, \"#46039f\"], [0.2222222222222222, \"#7201a8\"], [0.3333333333333333, \"#9c179e\"], [0.4444444444444444, \"#bd3786\"], [0.5555555555555556, \"#d8576b\"], [0.6666666666666666, \"#ed7953\"], [0.7777777777777778, \"#fb9f3a\"], [0.8888888888888888, \"#fdca26\"], [1.0, \"#f0f921\"]], \"sequentialminus\": [[0.0, \"#0d0887\"], [0.1111111111111111, \"#46039f\"], [0.2222222222222222, \"#7201a8\"], [0.3333333333333333, \"#9c179e\"], [0.4444444444444444, \"#bd3786\"], [0.5555555555555556, \"#d8576b\"], [0.6666666666666666, \"#ed7953\"], [0.7777777777777778, \"#fb9f3a\"], [0.8888888888888888, \"#fdca26\"], [1.0, \"#f0f921\"]]}, \"colorway\": [\"#636efa\", \"#EF553B\", \"#00cc96\", \"#ab63fa\", \"#FFA15A\", \"#19d3f3\", \"#FF6692\", \"#B6E880\", \"#FF97FF\", \"#FECB52\"], \"font\": {\"color\": \"#2a3f5f\"}, \"geo\": {\"bgcolor\": \"white\", \"lakecolor\": \"white\", \"landcolor\": \"#E5ECF6\", \"showlakes\": true, \"showland\": true, \"subunitcolor\": \"white\"}, \"hoverlabel\": {\"align\": \"left\"}, \"hovermode\": \"closest\", \"mapbox\": {\"style\": \"light\"}, \"paper_bgcolor\": \"white\", \"plot_bgcolor\": \"#E5ECF6\", \"polar\": {\"angularaxis\": {\"gridcolor\": \"white\", \"linecolor\": \"white\", \"ticks\": \"\"}, \"bgcolor\": \"#E5ECF6\", \"radialaxis\": {\"gridcolor\": \"white\", \"linecolor\": \"white\", \"ticks\": \"\"}}, \"scene\": {\"xaxis\": {\"backgroundcolor\": \"#E5ECF6\", \"gridcolor\": \"white\", \"gridwidth\": 2, \"linecolor\": \"white\", \"showbackground\": true, \"ticks\": \"\", \"zerolinecolor\": \"white\"}, \"yaxis\": {\"backgroundcolor\": \"#E5ECF6\", \"gridcolor\": \"white\", \"gridwidth\": 2, \"linecolor\": \"white\", \"showbackground\": true, \"ticks\": \"\", \"zerolinecolor\": \"white\"}, \"zaxis\": {\"backgroundcolor\": \"#E5ECF6\", \"gridcolor\": \"white\", \"gridwidth\": 2, \"linecolor\": \"white\", \"showbackground\": true, \"ticks\": \"\", \"zerolinecolor\": \"white\"}}, \"shapedefaults\": {\"line\": {\"color\": \"#2a3f5f\"}}, \"ternary\": {\"aaxis\": {\"gridcolor\": \"white\", \"linecolor\": \"white\", \"ticks\": \"\"}, \"baxis\": {\"gridcolor\": \"white\", \"linecolor\": \"white\", \"ticks\": \"\"}, \"bgcolor\": \"#E5ECF6\", \"caxis\": {\"gridcolor\": \"white\", \"linecolor\": \"white\", \"ticks\": \"\"}}, \"title\": {\"x\": 0.05}, \"xaxis\": {\"automargin\": true, \"gridcolor\": \"white\", \"linecolor\": \"white\", \"ticks\": \"\", \"zerolinecolor\": \"white\", \"zerolinewidth\": 2}, \"yaxis\": {\"automargin\": true, \"gridcolor\": \"white\", \"linecolor\": \"white\", \"ticks\": \"\", \"zerolinecolor\": \"white\", \"zerolinewidth\": 2}}}},\n",
       "                        {\"responsive\": true}\n",
       "                    ).then(function(){\n",
       "                            \n",
       "var gd = document.getElementById('6c9ca3c3-da93-49e9-a50e-a067b07b5066');\n",
       "var x = new MutationObserver(function (mutations, observer) {{\n",
       "        var display = window.getComputedStyle(gd).display;\n",
       "        if (!display || display === 'none') {{\n",
       "            console.log([gd, 'removed!']);\n",
       "            Plotly.purge(gd);\n",
       "            observer.disconnect();\n",
       "        }}\n",
       "}});\n",
       "\n",
       "// Listen for the removal of the full notebook cells\n",
       "var notebookContainer = gd.closest('#notebook-container');\n",
       "if (notebookContainer) {{\n",
       "    x.observe(notebookContainer, {childList: true});\n",
       "}}\n",
       "\n",
       "// Listen for the clearing of the current output cell\n",
       "var outputEl = gd.closest('.output');\n",
       "if (outputEl) {{\n",
       "    x.observe(outputEl, {childList: true});\n",
       "}}\n",
       "\n",
       "                        })\n",
       "                };\n",
       "                });\n",
       "            </script>\n",
       "        </div>"
      ]
     },
     "metadata": {},
     "output_type": "display_data"
    }
   ],
   "source": [
    "import plotly.offline as py\n",
    "import plotly.graph_objs as go\n",
    "py.init_notebook_mode(connected=True)\n",
    "\n",
    "bins = {\"start\":0, \"end\" : 20, \"size\":0.1}\n",
    "data = [go.Histogram(x=arrayShotsPerGame, xbins=bins)] # Variante: prova a usare \"y=a\" come parametro\n",
    "py.iplot(data)"
   ]
  },
  {
   "cell_type": "markdown",
   "metadata": {},
   "source": [
    "### 1.4\n",
    "Calcolare lo z-score delle osservazioni e identificate gli outliers. Sapete spiegare la ragione di questi outliers?"
   ]
  },
  {
   "cell_type": "markdown",
   "metadata": {},
   "source": [
    "### 1.5 \n",
    "Generate un nuovo array di osservazioni senza outliers. E ripetete il punto 2 e 3. Come cambiano media, mediana e varianza?\n"
   ]
  },
  {
   "cell_type": "markdown",
   "metadata": {},
   "source": [
    "### 1.6 (opzionale)\n",
    "Sapete rispondere alle seguenti domande guardando solo l'istogramma (e/o Box plot) e gli indici calcolati prima (es. media, mediana, quartili, etc). Possibili risposte (Vero, Falso, Non posso dirlo ):\n",
    "\n",
    "    -- Piu' del 50% dei calciatori ha effettuato almeno 2 tiri a partita\n",
    "    -- Meno del 25% dei calciatori ha effettuato piu' di 3 tiri a partita \n",
    "    -- Piu' di 150 giocatori hanno effettuato meno di 2 tiri a partita\n",
    "    -- Ci sono 2 giocatori che hanno effettuato 0 tiri a partita\n"
   ]
  },
  {
   "cell_type": "markdown",
   "metadata": {},
   "source": [
    "### 1.7 (opzionale)\n",
    "-- Outliers esclusi, quali sono i 12 giocatori che hanno effettuato piu' tiri a partita? \n",
    "\n",
    "-- Tra questi 12 giocatori, adesso sciegliete solo quelli che hanno giocato almeno 90 minuti "
   ]
  },
  {
   "cell_type": "code",
   "execution_count": 11,
   "metadata": {},
   "outputs": [
    {
     "name": "stdout",
     "output_type": "stream",
     "text": [
      "[1 2 2 3 4 4 8]\n"
     ]
    }
   ],
   "source": [
    "# Hint\n",
    "\n",
    "mioArray = np.array([1,2,3,4,8,2,4])\n",
    "\n",
    "indici = np.argsort(mioArray) # Indici di mioArray ordinati in ordine crescente\n",
    "\n",
    "print(mioArray[indici])"
   ]
  }
 ],
 "metadata": {
  "kernelspec": {
   "display_name": "Python 3",
   "language": "python",
   "name": "python3"
  },
  "language_info": {
   "codemirror_mode": {
    "name": "ipython",
    "version": 3
   },
   "file_extension": ".py",
   "mimetype": "text/x-python",
   "name": "python",
   "nbconvert_exporter": "python",
   "pygments_lexer": "ipython3",
   "version": "3.7.3"
  }
 },
 "nbformat": 4,
 "nbformat_minor": 2
}
