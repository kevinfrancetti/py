{
 "cells": [
  {
   "cell_type": "markdown",
   "metadata": {},
   "source": [
    "# Esercitazione 3"
   ]
  },
  {
   "cell_type": "markdown",
   "metadata": {},
   "source": [
    "## Istruzioni\n",
    "Valgono le stesse istruzioni delle esercitazioni precedenti. \n",
    "\n",
    "Scrivi il programma Python nella cella sotto il testo dell'esercizio (o creane una nuova). Stampa sempre a video il risultato finale per verificare la correttezza dell'esercizio.  Talvolta richiamiamo alcuni concetti importanti in una cella di codice sotto il testo dell'esercizio, prova a eseguirla ed eventualmente modificarla per assicurarti di aver capito il necessario.\n",
    "\n",
    "\n",
    "## Consegna\n",
    "Valgono le regole delle esercitazioni precedenti.\n",
    "\n",
    "E' obbligatorio **consegnare la soluzione di tutti gli esercizi** (tranne quelli marcati come opzionali) **entro l'inizio della lezione successiva** (in questo caso entro Lunedi' prossimo), nell'apposito assignment su iCorsi.  Per consegnare:\n",
    "- eseguire l'intero notebook partendo da zero (`Kernel -> Restart & Run All`), e controllare che le soluzioni siano quelle attese;\n",
    "- esportare il notebook in formato html (`File -> Download as...`) e consegnare il file risultante.\n",
    "\n",
    "Nel caso non abbiate potuto completare uno o piu' esercizi, descrivete il problema incontrato e **consegnate comunque il file con il resto delle soluzioni**."
   ]
  },
  {
   "cell_type": "markdown",
   "metadata": {},
   "source": [
    "## Esercizio 1 (statistiche sui Campionati Mondiali FIFA 2018)\n",
    "\n",
    "In questo esercizio farete una semplice analisi statistica sui campionati mondiali di calcio [FIFA 2018](https://www.fifa.com/worldcup/). Sotto la voce [statistics](https://www.fifa.com/worldcup/statistics/) potete trovare vari dati sulle partite del mondiale, come numero di goal segnati da ogni giocatore, cartellini gialli e rossi per giocatore, numero di tiri effettuati in ogni partita da ogni giocatore, numero di passaggi completati da ogni giocatore, etc.\n",
    "\n",
    "Concentriamoci sui tiri effettuati da ogni giocatore (vedi [Tabella](https://www.fifa.com/worldcup/statistics/players/shots)). Per prima cosa, dobbiamo caricare la tabella in Python. Per fare questo utilizzeremo il pacchetto [Pandas](http://pandas.pydata.org/pandas-docs/stable/), una potente libreria in Python che permette di importare dati da file di vari formati, come file JSON, MS Excel, CSV, HTML, SQL, etc. \n",
    "\n",
    "In realtà Pandas ha molte altre funzionalità per l'analisi dei dati, ma in questo corso ci limiteremo ad utilizzare Pandas solo per importare dati. Se sei interessato a maggiori dettagli su Pandas e ad alcune sue funzionalità, puoi trovare una rapida introduzione a Pandas [QUI](https://jakevdp.github.io/PythonDataScienceHandbook/03.00-introduction-to-pandas.html).\n",
    "\n",
    "Nel nostro esercizio importeremo dati da un file HTML. In genere basta semplicemente eseguire il comando ``pandas.read_html(\"url string\")``, come mostrato in un esempio nella cella sotto."
   ]
  },
  {
   "cell_type": "code",
   "execution_count": null,
   "metadata": {},
   "outputs": [],
   "source": [
    "import pandas as pd\n",
    "\n",
    "url = 'http://www.fdic.gov/bank/individual/failed/banklist.html'\n",
    "df = pd.read_html(url)\n",
    "\n",
    "print(df)"
   ]
  },
  {
   "cell_type": "markdown",
   "metadata": {},
   "source": [
    "Il comando ``pd.read_html()`` restituisce una ``lista`` contenente tutte le tabelle presenti nell' HTML. Pertanto, ogni elemento della lista è una tabella (o, piu' precisamente, un oggetto della libreria Pandas di tipo ``DataFrame``). Provate ad eseguire i comandi ``type(df)`` e ``type(df[0])`` per conferma. "
   ]
  },
  {
   "cell_type": "code",
   "execution_count": null,
   "metadata": {},
   "outputs": [],
   "source": [
    "print(type(df))\n",
    "\n",
    "print(type(df[0]))"
   ]
  },
  {
   "cell_type": "markdown",
   "metadata": {},
   "source": [
    "Torniamo adesso ai mondiali FIFA 2018 e carichiamo la [Tabella](https://www.fifa.com/worldcup/statistics/players/shots) con i tiri effettuati da ogni giocatore. Se proviamo ad eseguire i comandi della cella sopra, il server HTTP ci restituisce un errore di tipo ``HTTP Error 403: Forbidden`` (in parole povere, il server HTTP non ha accettato la richiesta di fare il parsing del file HTML). Senza entrare nel dettaglio, facciamo in modo che la nostra richiesta al server venga inviata come verrebbe inviata tramite un browser. Per fare questo basta eseguire i comandi della cella sotto. "
   ]
  },
  {
   "cell_type": "code",
   "execution_count": null,
   "metadata": {},
   "outputs": [],
   "source": [
    "import pandas as pd\n",
    "import requests\n",
    "\n",
    "url = 'https://www.fifa.com/worldcup/statistics/players/shots'\n",
    "\n",
    "header = {\n",
    "  \"User-Agent\": \"Chrome/50.1.3672\",\n",
    "  \"X-Requested-With\": \"XMLHttpRequest\"\n",
    "}\n",
    "\n",
    "r = requests.get(url, headers=header)\n",
    "\n",
    "listaDf = pd.read_html(r.text)\n",
    "df = listaDf[0]"
   ]
  },
  {
   "cell_type": "markdown",
   "metadata": {},
   "source": [
    "Se avete eseguito la cella sopra, la tabella (nel seguito dataframe) dei tiri si trova nella variabile ``df``. Proviamo a visualizzare questo dataframe."
   ]
  },
  {
   "cell_type": "code",
   "execution_count": null,
   "metadata": {},
   "outputs": [],
   "source": [
    "print(df)"
   ]
  },
  {
   "cell_type": "markdown",
   "metadata": {},
   "source": [
    "Adesso estraiamo ogni colonna del dataframe ``df`` e la convertiamo in un ``numpy array``. Prima di tutto visualizzamo i *labels* di ogni colonna. Le *labels* delle colonne sarebbero i nomi delle colonne che potete vedere se avete stampato il dataframe ``df`` nella cella precedente. Tuttavia, non sempre è facile vedere i nomi delle colonne quando lavoriamo su Jupyter Notebook. Meglio visualizzare le *labels* tramite il comando ``df.columns``.  "
   ]
  },
  {
   "cell_type": "code",
   "execution_count": null,
   "metadata": {},
   "outputs": [],
   "source": [
    "print(df.columns)\n",
    "help(df.columns)"
   ]
  },
  {
   "cell_type": "markdown",
   "metadata": {},
   "source": [
    "Adesso, accediamo alla colonna desiderata con una sintassi simile a quella utilizzata per accedere al valore di un dizionario data la chiave. Nello specifico, se voglio visualizzare la colonna con il numero di tiri (*label* = *Shots  S*), e convertirla in un ``array``, eseguo il comando della cella sotto."
   ]
  },
  {
   "cell_type": "code",
   "execution_count": null,
   "metadata": {},
   "outputs": [],
   "source": [
    "arrayShots = df['Shots  S'].values # Attenzione al doppio spazio tra Shots e S!!!!!!\n",
    "print(f\"tipo: {type(arrayShots)}\")\n",
    "print(arrayShots)"
   ]
  },
  {
   "cell_type": "markdown",
   "metadata": {},
   "source": [
    "### 1.1\n",
    "Si generi un nuovo array (che chiameremo arrayShotsPerGame) che calcoli, per ogni giocatore, il numero di tiri a partita (dove la partita si intende $90$ minuti di gioco). \n",
    "\n",
    "Esempio 1: Il giocatore *Fuoriclasse* ha giocato durante il mondiale 135 minuti (una partita e mezzo) e ha effettuato 19 tiri, allora il numero di tiri a partita è uguale a\n",
    "$19*\\frac{90}{135} = 12.66$. \n",
    "\n",
    "Esempio 2: Il giocatore *Campione* ha giocato durante il mondiale solo 5 minuti e ha effettuato $4$ tiri, allora il numero di tiri a partita è uguale a\n",
    "$4*\\frac{90}{5} = 72$!!! (Durante il mondiale ha tirato solo $4$ volte, ma ha giocato molto poco!!!!). \n",
    "\n",
    "Hint: il numero di minuti giocati da ogni giocatore si trova nell colonna con label ``Minutes Played  MinP``.\n"
   ]
  },
  {
   "cell_type": "markdown",
   "metadata": {},
   "source": [
    "### 1.2\n",
    "Si eseguano le seguenti operazioni: \n",
    "    - chi è il giocatore che ha effettuato piu' tiri a partita. E quello con meno tiri? Hint: i nomi dei giocatori si trovano nella colonna con label ``Player``.\n",
    "    - calcolare la media campionaria e la mediana del numero di tiri a partita. \n",
    "    - calcolare range, varianza campionaria, deviazione standard, primo e terzo quartile del numero di tiri a partita"
   ]
  },
  {
   "cell_type": "code",
   "execution_count": null,
   "metadata": {},
   "outputs": [],
   "source": [
    "# Hint 1 (calcolo l'indice dell'array dove si trova l'elemento con massimo valore)\n",
    "import numpy as np\n",
    "print(np.argmax(np.array([1,2,3,5,-2,4])))"
   ]
  },
  {
   "cell_type": "code",
   "execution_count": null,
   "metadata": {},
   "outputs": [],
   "source": [
    "# Hint 2 (comandi utili)\n",
    "\n",
    "mioArray = np.random.randn(1000)\n",
    "\n",
    "print(f\"Media: {np.mean(mioArray)}\")\n",
    "print(f\"Varianza: {np.var(mioArray,ddof=1)}\") # Dall'Help della funzione np.var riuscite a capire cosa cambia se ddof = 0?\n",
    "print(f\"Deviazione Standard: {np.std(mioArray)}\") \n",
    "print(f\"Mediana: {np.median(mioArray)}\") \n",
    "\n",
    "print(f\"25-esimo percentile {np.percentile(mioArray,25)}\") # Calcola 25-esimo percentile"
   ]
  },
  {
   "cell_type": "markdown",
   "metadata": {},
   "source": [
    "### 1.3\n",
    "\n",
    "Plottare istogramma e boxplot delle osservazioni. Nominate opportunamente gli assi e se volete visualizzare meglio i grafici cambiate il range degli assi e/o definite i bins manualmente. Notate la presenza di outliers? Riuscite a spiegare perchè la media è piu' alta della mediana?"
   ]
  },
  {
   "cell_type": "markdown",
   "metadata": {},
   "source": [
    "### 1.4\n",
    "Calcolare lo z-score delle osservazioni e identificate gli outliers. Sapete spiegare la ragione di questi outliers?"
   ]
  },
  {
   "cell_type": "markdown",
   "metadata": {},
   "source": [
    "### 1.5 \n",
    "Generate un nuovo array di osservazioni senza outliers. E ripetete il punto 2 e 3. Come cambiano media, mediana e varianza?\n"
   ]
  },
  {
   "cell_type": "markdown",
   "metadata": {},
   "source": [
    "### 1.6 (opzionale)\n",
    "Sapete rispondere alle seguenti domande guardando solo l'istogramma (e/o Box plot) e gli indici calcolati prima (es. media, mediana, quartili, etc). Possibili risposte (Vero, Falso, Non posso dirlo ):\n",
    "\n",
    "    -- Piu' del 50% dei calciatori ha effettuato almeno 2 tiri a partita\n",
    "    -- Meno del 25% dei calciatori ha effettuato piu' di 3 tiri a partita \n",
    "    -- Piu' di 150 giocatori hanno effettuato meno di 2 tiri a partita\n",
    "    -- Ci sono 2 giocatori che hanno effettuato 0 tiri a partita\n"
   ]
  },
  {
   "cell_type": "markdown",
   "metadata": {},
   "source": [
    "### 1.7 (opzionale)\n",
    "-- Outliers esclusi, quali sono i 12 giocatori che hanno effettuato piu' tiri a partita? \n",
    "\n",
    "-- Tra questi 12 giocatori, adesso sciegliete solo quelli che hanno giocato almeno 90 minuti "
   ]
  },
  {
   "cell_type": "code",
   "execution_count": null,
   "metadata": {},
   "outputs": [],
   "source": [
    "# Hint\n",
    "\n",
    "mioArray = np.array([1,2,3,4,8,2,4])\n",
    "\n",
    "indici = np.argsort(mioArray) # Indici di mioArray ordinati in ordine crescente\n",
    "\n",
    "print(mioArray[indici])"
   ]
  }
 ],
 "metadata": {
  "kernelspec": {
   "display_name": "Python 3",
   "language": "python",
   "name": "python3"
  },
  "language_info": {
   "codemirror_mode": {
    "name": "ipython",
    "version": 3
   },
   "file_extension": ".py",
   "mimetype": "text/x-python",
   "name": "python",
   "nbconvert_exporter": "python",
   "pygments_lexer": "ipython3",
   "version": "3.7.3"
  }
 },
 "nbformat": 4,
 "nbformat_minor": 2
}
